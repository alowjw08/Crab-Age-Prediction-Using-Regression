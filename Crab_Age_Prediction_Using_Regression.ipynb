{
  "nbformat": 4,
  "nbformat_minor": 0,
  "metadata": {
    "colab": {
      "provenance": [],
      "collapsed_sections": [
        "jo9gBw08cg_i",
        "5x9TqoXVeI_P",
        "-OM4Z41RU2Gi",
        "TffaUqskU6IH",
        "RvoRFt8cU97U",
        "BtVSymMaVCsQ",
        "jeNZbvJIVE4O",
        "UyVxep2rneaP",
        "tUgJ9JPnurxq",
        "Kxm3mYi_UdVB",
        "iMmhrHHyUgkL",
        "8G_YXQHUUjD_",
        "vZ_xbfFFQuDb",
        "LvCF362UTv5b"
      ],
      "authorship_tag": "ABX9TyN/DZ7hQ7mAeA1zNP2e72xr",
      "include_colab_link": true
    },
    "kernelspec": {
      "name": "python3",
      "display_name": "Python 3"
    },
    "language_info": {
      "name": "python"
    }
  },
  "cells": [
    {
      "cell_type": "markdown",
      "metadata": {
        "id": "view-in-github",
        "colab_type": "text"
      },
      "source": [
        "<a href=\"https://colab.research.google.com/github/alowjw08/Crab-Age-Prediction-Using-Regression/blob/main/Crab_Age_Prediction_Using_Regression.ipynb\" target=\"_parent\"><img src=\"https://colab.research.google.com/assets/colab-badge.svg\" alt=\"Open In Colab\"/></a>"
      ]
    },
    {
      "cell_type": "markdown",
      "source": [
        "# Crab Age Prediction Using Regression"
      ],
      "metadata": {
        "id": "LM8HHRGzcR9x"
      }
    },
    {
      "cell_type": "markdown",
      "source": [
        "Allison Low Jia Wen 23051818/1"
      ],
      "metadata": {
        "id": "ROaMjT21Yha5"
      }
    },
    {
      "cell_type": "markdown",
      "source": [
        "## Data Analysis"
      ],
      "metadata": {
        "id": "jo9gBw08cg_i"
      }
    },
    {
      "cell_type": "code",
      "source": [
        "from google.colab import drive\n",
        "drive.mount(\"/content/drive\", force_remount=True)\n",
        "\n",
        "import pandas as pd\n",
        "\n",
        "#read dataset\n",
        "df = pd.read_csv('/content/drive/MyDrive/ModifiedCrabAgePrediction.csv')"
      ],
      "metadata": {
        "colab": {
          "base_uri": "https://localhost:8080/"
        },
        "id": "A1_79411clff",
        "outputId": "4ebcda11-6ae2-42f6-a4dd-5eb691779247"
      },
      "execution_count": null,
      "outputs": [
        {
          "output_type": "stream",
          "name": "stdout",
          "text": [
            "Mounted at /content/drive\n"
          ]
        }
      ]
    },
    {
      "cell_type": "code",
      "source": [
        "df.info()"
      ],
      "metadata": {
        "colab": {
          "base_uri": "https://localhost:8080/"
        },
        "id": "zr6ffJLpdkkf",
        "outputId": "1202f5db-c131-45e1-c027-bbe0ae05ba11"
      },
      "execution_count": null,
      "outputs": [
        {
          "output_type": "stream",
          "name": "stdout",
          "text": [
            "<class 'pandas.core.frame.DataFrame'>\n",
            "RangeIndex: 3500 entries, 0 to 3499\n",
            "Data columns (total 9 columns):\n",
            " #   Column          Non-Null Count  Dtype  \n",
            "---  ------          --------------  -----  \n",
            " 0   Sex             3500 non-null   object \n",
            " 1   Length          3456 non-null   float64\n",
            " 2   Diameter        3468 non-null   float64\n",
            " 3   Height          3413 non-null   float64\n",
            " 4   Weight          3462 non-null   float64\n",
            " 5   Shucked Weight  3500 non-null   float64\n",
            " 6   Viscera Weight  3500 non-null   float64\n",
            " 7   Shell Weight    3500 non-null   float64\n",
            " 8   Age             3500 non-null   int64  \n",
            "dtypes: float64(7), int64(1), object(1)\n",
            "memory usage: 246.2+ KB\n"
          ]
        }
      ]
    },
    {
      "cell_type": "markdown",
      "source": [
        "Features: sex, length, diameter, height, weight, shucked weight, viscera weight, shell weight\n",
        ">\n",
        "Target variable: age"
      ],
      "metadata": {
        "id": "IfmQm0IYdtKi"
      }
    },
    {
      "cell_type": "markdown",
      "source": [
        "Dataset seems to have sufficient dimensions, with adequate number of rows and columns for data analysis and model training purposes."
      ],
      "metadata": {
        "id": "U2q-s7coYTjf"
      }
    },
    {
      "cell_type": "code",
      "source": [
        "df.describe()"
      ],
      "metadata": {
        "colab": {
          "base_uri": "https://localhost:8080/",
          "height": 338
        },
        "id": "yBnTmHMoeAhA",
        "outputId": "1fb67b7d-a24c-4632-b948-3cc1d674e0d5"
      },
      "execution_count": null,
      "outputs": [
        {
          "output_type": "execute_result",
          "data": {
            "text/plain": [
              "            Length     Diameter       Height       Weight  Shucked Weight  \\\n",
              "count  3456.000000  3468.000000  3413.000000  3462.000000     3500.000000   \n",
              "mean      1.314131     1.022365     0.350509    23.786946       10.283194   \n",
              "std       0.299806     0.248250     0.106293    13.920088        6.297363   \n",
              "min       0.187500     0.137500     0.000000     0.056699        0.028349   \n",
              "25%       1.125000     0.875000     0.287500    12.813974        5.372230   \n",
              "50%       1.375000     1.062500     0.362500    23.119017        9.695529   \n",
              "75%       1.537500     1.200000     0.412500    33.020080       14.330672   \n",
              "max       2.037500     1.625000     2.825000    80.101512       42.184056   \n",
              "\n",
              "       Viscera Weight  Shell Weight          Age  \n",
              "count     3500.000000   3500.000000  3500.000000  \n",
              "mean         5.168507      6.831221     9.977714  \n",
              "std          3.116262      3.945384     3.216236  \n",
              "min          0.014175      0.042524     1.000000  \n",
              "25%          2.689659      3.752765     8.000000  \n",
              "50%          4.890289      6.704657    10.000000  \n",
              "75%          7.257472      9.355335    11.000000  \n",
              "max         21.545620     28.491248    29.000000  "
            ],
            "text/html": [
              "\n",
              "  <div id=\"df-fc032c40-bf17-44ed-a1b9-f62db0077ed8\" class=\"colab-df-container\">\n",
              "    <div>\n",
              "<style scoped>\n",
              "    .dataframe tbody tr th:only-of-type {\n",
              "        vertical-align: middle;\n",
              "    }\n",
              "\n",
              "    .dataframe tbody tr th {\n",
              "        vertical-align: top;\n",
              "    }\n",
              "\n",
              "    .dataframe thead th {\n",
              "        text-align: right;\n",
              "    }\n",
              "</style>\n",
              "<table border=\"1\" class=\"dataframe\">\n",
              "  <thead>\n",
              "    <tr style=\"text-align: right;\">\n",
              "      <th></th>\n",
              "      <th>Length</th>\n",
              "      <th>Diameter</th>\n",
              "      <th>Height</th>\n",
              "      <th>Weight</th>\n",
              "      <th>Shucked Weight</th>\n",
              "      <th>Viscera Weight</th>\n",
              "      <th>Shell Weight</th>\n",
              "      <th>Age</th>\n",
              "    </tr>\n",
              "  </thead>\n",
              "  <tbody>\n",
              "    <tr>\n",
              "      <th>count</th>\n",
              "      <td>3456.000000</td>\n",
              "      <td>3468.000000</td>\n",
              "      <td>3413.000000</td>\n",
              "      <td>3462.000000</td>\n",
              "      <td>3500.000000</td>\n",
              "      <td>3500.000000</td>\n",
              "      <td>3500.000000</td>\n",
              "      <td>3500.000000</td>\n",
              "    </tr>\n",
              "    <tr>\n",
              "      <th>mean</th>\n",
              "      <td>1.314131</td>\n",
              "      <td>1.022365</td>\n",
              "      <td>0.350509</td>\n",
              "      <td>23.786946</td>\n",
              "      <td>10.283194</td>\n",
              "      <td>5.168507</td>\n",
              "      <td>6.831221</td>\n",
              "      <td>9.977714</td>\n",
              "    </tr>\n",
              "    <tr>\n",
              "      <th>std</th>\n",
              "      <td>0.299806</td>\n",
              "      <td>0.248250</td>\n",
              "      <td>0.106293</td>\n",
              "      <td>13.920088</td>\n",
              "      <td>6.297363</td>\n",
              "      <td>3.116262</td>\n",
              "      <td>3.945384</td>\n",
              "      <td>3.216236</td>\n",
              "    </tr>\n",
              "    <tr>\n",
              "      <th>min</th>\n",
              "      <td>0.187500</td>\n",
              "      <td>0.137500</td>\n",
              "      <td>0.000000</td>\n",
              "      <td>0.056699</td>\n",
              "      <td>0.028349</td>\n",
              "      <td>0.014175</td>\n",
              "      <td>0.042524</td>\n",
              "      <td>1.000000</td>\n",
              "    </tr>\n",
              "    <tr>\n",
              "      <th>25%</th>\n",
              "      <td>1.125000</td>\n",
              "      <td>0.875000</td>\n",
              "      <td>0.287500</td>\n",
              "      <td>12.813974</td>\n",
              "      <td>5.372230</td>\n",
              "      <td>2.689659</td>\n",
              "      <td>3.752765</td>\n",
              "      <td>8.000000</td>\n",
              "    </tr>\n",
              "    <tr>\n",
              "      <th>50%</th>\n",
              "      <td>1.375000</td>\n",
              "      <td>1.062500</td>\n",
              "      <td>0.362500</td>\n",
              "      <td>23.119017</td>\n",
              "      <td>9.695529</td>\n",
              "      <td>4.890289</td>\n",
              "      <td>6.704657</td>\n",
              "      <td>10.000000</td>\n",
              "    </tr>\n",
              "    <tr>\n",
              "      <th>75%</th>\n",
              "      <td>1.537500</td>\n",
              "      <td>1.200000</td>\n",
              "      <td>0.412500</td>\n",
              "      <td>33.020080</td>\n",
              "      <td>14.330672</td>\n",
              "      <td>7.257472</td>\n",
              "      <td>9.355335</td>\n",
              "      <td>11.000000</td>\n",
              "    </tr>\n",
              "    <tr>\n",
              "      <th>max</th>\n",
              "      <td>2.037500</td>\n",
              "      <td>1.625000</td>\n",
              "      <td>2.825000</td>\n",
              "      <td>80.101512</td>\n",
              "      <td>42.184056</td>\n",
              "      <td>21.545620</td>\n",
              "      <td>28.491248</td>\n",
              "      <td>29.000000</td>\n",
              "    </tr>\n",
              "  </tbody>\n",
              "</table>\n",
              "</div>\n",
              "    <div class=\"colab-df-buttons\">\n",
              "\n",
              "  <div class=\"colab-df-container\">\n",
              "    <button class=\"colab-df-convert\" onclick=\"convertToInteractive('df-fc032c40-bf17-44ed-a1b9-f62db0077ed8')\"\n",
              "            title=\"Convert this dataframe to an interactive table.\"\n",
              "            style=\"display:none;\">\n",
              "\n",
              "  <svg xmlns=\"http://www.w3.org/2000/svg\" height=\"24px\" viewBox=\"0 -960 960 960\">\n",
              "    <path d=\"M120-120v-720h720v720H120Zm60-500h600v-160H180v160Zm220 220h160v-160H400v160Zm0 220h160v-160H400v160ZM180-400h160v-160H180v160Zm440 0h160v-160H620v160ZM180-180h160v-160H180v160Zm440 0h160v-160H620v160Z\"/>\n",
              "  </svg>\n",
              "    </button>\n",
              "\n",
              "  <style>\n",
              "    .colab-df-container {\n",
              "      display:flex;\n",
              "      gap: 12px;\n",
              "    }\n",
              "\n",
              "    .colab-df-convert {\n",
              "      background-color: #E8F0FE;\n",
              "      border: none;\n",
              "      border-radius: 50%;\n",
              "      cursor: pointer;\n",
              "      display: none;\n",
              "      fill: #1967D2;\n",
              "      height: 32px;\n",
              "      padding: 0 0 0 0;\n",
              "      width: 32px;\n",
              "    }\n",
              "\n",
              "    .colab-df-convert:hover {\n",
              "      background-color: #E2EBFA;\n",
              "      box-shadow: 0px 1px 2px rgba(60, 64, 67, 0.3), 0px 1px 3px 1px rgba(60, 64, 67, 0.15);\n",
              "      fill: #174EA6;\n",
              "    }\n",
              "\n",
              "    .colab-df-buttons div {\n",
              "      margin-bottom: 4px;\n",
              "    }\n",
              "\n",
              "    [theme=dark] .colab-df-convert {\n",
              "      background-color: #3B4455;\n",
              "      fill: #D2E3FC;\n",
              "    }\n",
              "\n",
              "    [theme=dark] .colab-df-convert:hover {\n",
              "      background-color: #434B5C;\n",
              "      box-shadow: 0px 1px 3px 1px rgba(0, 0, 0, 0.15);\n",
              "      filter: drop-shadow(0px 1px 2px rgba(0, 0, 0, 0.3));\n",
              "      fill: #FFFFFF;\n",
              "    }\n",
              "  </style>\n",
              "\n",
              "    <script>\n",
              "      const buttonEl =\n",
              "        document.querySelector('#df-fc032c40-bf17-44ed-a1b9-f62db0077ed8 button.colab-df-convert');\n",
              "      buttonEl.style.display =\n",
              "        google.colab.kernel.accessAllowed ? 'block' : 'none';\n",
              "\n",
              "      async function convertToInteractive(key) {\n",
              "        const element = document.querySelector('#df-fc032c40-bf17-44ed-a1b9-f62db0077ed8');\n",
              "        const dataTable =\n",
              "          await google.colab.kernel.invokeFunction('convertToInteractive',\n",
              "                                                    [key], {});\n",
              "        if (!dataTable) return;\n",
              "\n",
              "        const docLinkHtml = 'Like what you see? Visit the ' +\n",
              "          '<a target=\"_blank\" href=https://colab.research.google.com/notebooks/data_table.ipynb>data table notebook</a>'\n",
              "          + ' to learn more about interactive tables.';\n",
              "        element.innerHTML = '';\n",
              "        dataTable['output_type'] = 'display_data';\n",
              "        await google.colab.output.renderOutput(dataTable, element);\n",
              "        const docLink = document.createElement('div');\n",
              "        docLink.innerHTML = docLinkHtml;\n",
              "        element.appendChild(docLink);\n",
              "      }\n",
              "    </script>\n",
              "  </div>\n",
              "\n",
              "\n",
              "<div id=\"df-7a63ffa7-f30f-40f6-b014-09f8767dc9c5\">\n",
              "  <button class=\"colab-df-quickchart\" onclick=\"quickchart('df-7a63ffa7-f30f-40f6-b014-09f8767dc9c5')\"\n",
              "            title=\"Suggest charts\"\n",
              "            style=\"display:none;\">\n",
              "\n",
              "<svg xmlns=\"http://www.w3.org/2000/svg\" height=\"24px\"viewBox=\"0 0 24 24\"\n",
              "     width=\"24px\">\n",
              "    <g>\n",
              "        <path d=\"M19 3H5c-1.1 0-2 .9-2 2v14c0 1.1.9 2 2 2h14c1.1 0 2-.9 2-2V5c0-1.1-.9-2-2-2zM9 17H7v-7h2v7zm4 0h-2V7h2v10zm4 0h-2v-4h2v4z\"/>\n",
              "    </g>\n",
              "</svg>\n",
              "  </button>\n",
              "\n",
              "<style>\n",
              "  .colab-df-quickchart {\n",
              "      --bg-color: #E8F0FE;\n",
              "      --fill-color: #1967D2;\n",
              "      --hover-bg-color: #E2EBFA;\n",
              "      --hover-fill-color: #174EA6;\n",
              "      --disabled-fill-color: #AAA;\n",
              "      --disabled-bg-color: #DDD;\n",
              "  }\n",
              "\n",
              "  [theme=dark] .colab-df-quickchart {\n",
              "      --bg-color: #3B4455;\n",
              "      --fill-color: #D2E3FC;\n",
              "      --hover-bg-color: #434B5C;\n",
              "      --hover-fill-color: #FFFFFF;\n",
              "      --disabled-bg-color: #3B4455;\n",
              "      --disabled-fill-color: #666;\n",
              "  }\n",
              "\n",
              "  .colab-df-quickchart {\n",
              "    background-color: var(--bg-color);\n",
              "    border: none;\n",
              "    border-radius: 50%;\n",
              "    cursor: pointer;\n",
              "    display: none;\n",
              "    fill: var(--fill-color);\n",
              "    height: 32px;\n",
              "    padding: 0;\n",
              "    width: 32px;\n",
              "  }\n",
              "\n",
              "  .colab-df-quickchart:hover {\n",
              "    background-color: var(--hover-bg-color);\n",
              "    box-shadow: 0 1px 2px rgba(60, 64, 67, 0.3), 0 1px 3px 1px rgba(60, 64, 67, 0.15);\n",
              "    fill: var(--button-hover-fill-color);\n",
              "  }\n",
              "\n",
              "  .colab-df-quickchart-complete:disabled,\n",
              "  .colab-df-quickchart-complete:disabled:hover {\n",
              "    background-color: var(--disabled-bg-color);\n",
              "    fill: var(--disabled-fill-color);\n",
              "    box-shadow: none;\n",
              "  }\n",
              "\n",
              "  .colab-df-spinner {\n",
              "    border: 2px solid var(--fill-color);\n",
              "    border-color: transparent;\n",
              "    border-bottom-color: var(--fill-color);\n",
              "    animation:\n",
              "      spin 1s steps(1) infinite;\n",
              "  }\n",
              "\n",
              "  @keyframes spin {\n",
              "    0% {\n",
              "      border-color: transparent;\n",
              "      border-bottom-color: var(--fill-color);\n",
              "      border-left-color: var(--fill-color);\n",
              "    }\n",
              "    20% {\n",
              "      border-color: transparent;\n",
              "      border-left-color: var(--fill-color);\n",
              "      border-top-color: var(--fill-color);\n",
              "    }\n",
              "    30% {\n",
              "      border-color: transparent;\n",
              "      border-left-color: var(--fill-color);\n",
              "      border-top-color: var(--fill-color);\n",
              "      border-right-color: var(--fill-color);\n",
              "    }\n",
              "    40% {\n",
              "      border-color: transparent;\n",
              "      border-right-color: var(--fill-color);\n",
              "      border-top-color: var(--fill-color);\n",
              "    }\n",
              "    60% {\n",
              "      border-color: transparent;\n",
              "      border-right-color: var(--fill-color);\n",
              "    }\n",
              "    80% {\n",
              "      border-color: transparent;\n",
              "      border-right-color: var(--fill-color);\n",
              "      border-bottom-color: var(--fill-color);\n",
              "    }\n",
              "    90% {\n",
              "      border-color: transparent;\n",
              "      border-bottom-color: var(--fill-color);\n",
              "    }\n",
              "  }\n",
              "</style>\n",
              "\n",
              "  <script>\n",
              "    async function quickchart(key) {\n",
              "      const quickchartButtonEl =\n",
              "        document.querySelector('#' + key + ' button');\n",
              "      quickchartButtonEl.disabled = true;  // To prevent multiple clicks.\n",
              "      quickchartButtonEl.classList.add('colab-df-spinner');\n",
              "      try {\n",
              "        const charts = await google.colab.kernel.invokeFunction(\n",
              "            'suggestCharts', [key], {});\n",
              "      } catch (error) {\n",
              "        console.error('Error during call to suggestCharts:', error);\n",
              "      }\n",
              "      quickchartButtonEl.classList.remove('colab-df-spinner');\n",
              "      quickchartButtonEl.classList.add('colab-df-quickchart-complete');\n",
              "    }\n",
              "    (() => {\n",
              "      let quickchartButtonEl =\n",
              "        document.querySelector('#df-7a63ffa7-f30f-40f6-b014-09f8767dc9c5 button');\n",
              "      quickchartButtonEl.style.display =\n",
              "        google.colab.kernel.accessAllowed ? 'block' : 'none';\n",
              "    })();\n",
              "  </script>\n",
              "</div>\n",
              "\n",
              "    </div>\n",
              "  </div>\n"
            ],
            "application/vnd.google.colaboratory.intrinsic+json": {
              "type": "dataframe",
              "summary": "{\n  \"name\": \"df\",\n  \"rows\": 8,\n  \"fields\": [\n    {\n      \"column\": \"Length\",\n      \"properties\": {\n        \"dtype\": \"number\",\n        \"std\": 1221.482853357104,\n        \"min\": 0.1875,\n        \"max\": 3456.0,\n        \"num_unique_values\": 8,\n        \"samples\": [\n          1.3141312210648148,\n          1.375,\n          3456.0\n        ],\n        \"semantic_type\": \"\",\n        \"description\": \"\"\n      }\n    },\n    {\n      \"column\": \"Diameter\",\n      \"properties\": {\n        \"dtype\": \"number\",\n        \"std\": 1225.811592247252,\n        \"min\": 0.1375,\n        \"max\": 3468.0,\n        \"num_unique_values\": 8,\n        \"samples\": [\n          1.0223651960784315,\n          1.0625,\n          3468.0\n        ],\n        \"semantic_type\": \"\",\n        \"description\": \"\"\n      }\n    },\n    {\n      \"column\": \"Height\",\n      \"properties\": {\n        \"dtype\": \"number\",\n        \"std\": 1206.4586452774856,\n        \"min\": 0.0,\n        \"max\": 3413.0,\n        \"num_unique_values\": 8,\n        \"samples\": [\n          0.3505090829182537,\n          0.3625,\n          3413.0\n        ],\n        \"semantic_type\": \"\",\n        \"description\": \"\"\n      }\n    },\n    {\n      \"column\": \"Weight\",\n      \"properties\": {\n        \"dtype\": \"number\",\n        \"std\": 1214.80006979141,\n        \"min\": 0.056699,\n        \"max\": 3462.0,\n        \"num_unique_values\": 8,\n        \"samples\": [\n          23.786946046071634,\n          23.11901725,\n          3462.0\n        ],\n        \"semantic_type\": \"\",\n        \"description\": \"\"\n      }\n    },\n    {\n      \"column\": \"Shucked Weight\",\n      \"properties\": {\n        \"dtype\": \"number\",\n        \"std\": 1233.0486865451055,\n        \"min\": 0.0283495,\n        \"max\": 3500.0,\n        \"num_unique_values\": 8,\n        \"samples\": [\n          10.283193885357145,\n          9.695529,\n          3500.0\n        ],\n        \"semantic_type\": \"\",\n        \"description\": \"\"\n      }\n    },\n    {\n      \"column\": \"Viscera Weight\",\n      \"properties\": {\n        \"dtype\": \"number\",\n        \"std\": 1235.1973910293461,\n        \"min\": 0.01417475,\n        \"max\": 3500.0,\n        \"num_unique_values\": 8,\n        \"samples\": [\n          5.168506693071429,\n          4.89028875,\n          3500.0\n        ],\n        \"semantic_type\": \"\",\n        \"description\": \"\"\n      }\n    },\n    {\n      \"column\": \"Shell Weight\",\n      \"properties\": {\n        \"dtype\": \"number\",\n        \"std\": 1234.4808543315319,\n        \"min\": 0.04252425,\n        \"max\": 3500.0,\n        \"num_unique_values\": 8,\n        \"samples\": [\n          6.831221067814285,\n          6.70465675,\n          3500.0\n        ],\n        \"semantic_type\": \"\",\n        \"description\": \"\"\n      }\n    },\n    {\n      \"column\": \"Age\",\n      \"properties\": {\n        \"dtype\": \"number\",\n        \"std\": 1233.8190245142334,\n        \"min\": 1.0,\n        \"max\": 3500.0,\n        \"num_unique_values\": 8,\n        \"samples\": [\n          9.977714285714285,\n          10.0,\n          3500.0\n        ],\n        \"semantic_type\": \"\",\n        \"description\": \"\"\n      }\n    }\n  ]\n}"
            }
          },
          "metadata": {},
          "execution_count": 44
        }
      ]
    },
    {
      "cell_type": "code",
      "source": [
        "df.head()"
      ],
      "metadata": {
        "colab": {
          "base_uri": "https://localhost:8080/",
          "height": 206
        },
        "id": "ZgSS0c5peDjZ",
        "outputId": "a1f2039b-5160-46e3-b7da-fb7192dbd3b5"
      },
      "execution_count": null,
      "outputs": [
        {
          "output_type": "execute_result",
          "data": {
            "text/plain": [
              "  Sex  Length  Diameter  Height     Weight  Shucked Weight  Viscera Weight  \\\n",
              "0   F  1.4375    1.1750  0.4125  24.635715       12.332033        5.584852   \n",
              "1   M  0.8875    0.6500  0.2125   5.400580        2.296310        1.374951   \n",
              "2   I  1.0375    0.7750  0.2500   7.952035        3.231843        1.601747   \n",
              "3   F  1.1750    0.8875  0.2500  13.480187        4.748541        2.282135   \n",
              "4   I  0.8875    0.6625  0.2125   6.903103        3.458639        1.488349   \n",
              "\n",
              "   Shell Weight  Age  \n",
              "0      6.747181    9  \n",
              "1      1.559222    6  \n",
              "2      2.764076    6  \n",
              "3      5.244657   10  \n",
              "4      1.700970    6  "
            ],
            "text/html": [
              "\n",
              "  <div id=\"df-b0b259ad-ff39-4682-9965-7a66d2e69dc3\" class=\"colab-df-container\">\n",
              "    <div>\n",
              "<style scoped>\n",
              "    .dataframe tbody tr th:only-of-type {\n",
              "        vertical-align: middle;\n",
              "    }\n",
              "\n",
              "    .dataframe tbody tr th {\n",
              "        vertical-align: top;\n",
              "    }\n",
              "\n",
              "    .dataframe thead th {\n",
              "        text-align: right;\n",
              "    }\n",
              "</style>\n",
              "<table border=\"1\" class=\"dataframe\">\n",
              "  <thead>\n",
              "    <tr style=\"text-align: right;\">\n",
              "      <th></th>\n",
              "      <th>Sex</th>\n",
              "      <th>Length</th>\n",
              "      <th>Diameter</th>\n",
              "      <th>Height</th>\n",
              "      <th>Weight</th>\n",
              "      <th>Shucked Weight</th>\n",
              "      <th>Viscera Weight</th>\n",
              "      <th>Shell Weight</th>\n",
              "      <th>Age</th>\n",
              "    </tr>\n",
              "  </thead>\n",
              "  <tbody>\n",
              "    <tr>\n",
              "      <th>0</th>\n",
              "      <td>F</td>\n",
              "      <td>1.4375</td>\n",
              "      <td>1.1750</td>\n",
              "      <td>0.4125</td>\n",
              "      <td>24.635715</td>\n",
              "      <td>12.332033</td>\n",
              "      <td>5.584852</td>\n",
              "      <td>6.747181</td>\n",
              "      <td>9</td>\n",
              "    </tr>\n",
              "    <tr>\n",
              "      <th>1</th>\n",
              "      <td>M</td>\n",
              "      <td>0.8875</td>\n",
              "      <td>0.6500</td>\n",
              "      <td>0.2125</td>\n",
              "      <td>5.400580</td>\n",
              "      <td>2.296310</td>\n",
              "      <td>1.374951</td>\n",
              "      <td>1.559222</td>\n",
              "      <td>6</td>\n",
              "    </tr>\n",
              "    <tr>\n",
              "      <th>2</th>\n",
              "      <td>I</td>\n",
              "      <td>1.0375</td>\n",
              "      <td>0.7750</td>\n",
              "      <td>0.2500</td>\n",
              "      <td>7.952035</td>\n",
              "      <td>3.231843</td>\n",
              "      <td>1.601747</td>\n",
              "      <td>2.764076</td>\n",
              "      <td>6</td>\n",
              "    </tr>\n",
              "    <tr>\n",
              "      <th>3</th>\n",
              "      <td>F</td>\n",
              "      <td>1.1750</td>\n",
              "      <td>0.8875</td>\n",
              "      <td>0.2500</td>\n",
              "      <td>13.480187</td>\n",
              "      <td>4.748541</td>\n",
              "      <td>2.282135</td>\n",
              "      <td>5.244657</td>\n",
              "      <td>10</td>\n",
              "    </tr>\n",
              "    <tr>\n",
              "      <th>4</th>\n",
              "      <td>I</td>\n",
              "      <td>0.8875</td>\n",
              "      <td>0.6625</td>\n",
              "      <td>0.2125</td>\n",
              "      <td>6.903103</td>\n",
              "      <td>3.458639</td>\n",
              "      <td>1.488349</td>\n",
              "      <td>1.700970</td>\n",
              "      <td>6</td>\n",
              "    </tr>\n",
              "  </tbody>\n",
              "</table>\n",
              "</div>\n",
              "    <div class=\"colab-df-buttons\">\n",
              "\n",
              "  <div class=\"colab-df-container\">\n",
              "    <button class=\"colab-df-convert\" onclick=\"convertToInteractive('df-b0b259ad-ff39-4682-9965-7a66d2e69dc3')\"\n",
              "            title=\"Convert this dataframe to an interactive table.\"\n",
              "            style=\"display:none;\">\n",
              "\n",
              "  <svg xmlns=\"http://www.w3.org/2000/svg\" height=\"24px\" viewBox=\"0 -960 960 960\">\n",
              "    <path d=\"M120-120v-720h720v720H120Zm60-500h600v-160H180v160Zm220 220h160v-160H400v160Zm0 220h160v-160H400v160ZM180-400h160v-160H180v160Zm440 0h160v-160H620v160ZM180-180h160v-160H180v160Zm440 0h160v-160H620v160Z\"/>\n",
              "  </svg>\n",
              "    </button>\n",
              "\n",
              "  <style>\n",
              "    .colab-df-container {\n",
              "      display:flex;\n",
              "      gap: 12px;\n",
              "    }\n",
              "\n",
              "    .colab-df-convert {\n",
              "      background-color: #E8F0FE;\n",
              "      border: none;\n",
              "      border-radius: 50%;\n",
              "      cursor: pointer;\n",
              "      display: none;\n",
              "      fill: #1967D2;\n",
              "      height: 32px;\n",
              "      padding: 0 0 0 0;\n",
              "      width: 32px;\n",
              "    }\n",
              "\n",
              "    .colab-df-convert:hover {\n",
              "      background-color: #E2EBFA;\n",
              "      box-shadow: 0px 1px 2px rgba(60, 64, 67, 0.3), 0px 1px 3px 1px rgba(60, 64, 67, 0.15);\n",
              "      fill: #174EA6;\n",
              "    }\n",
              "\n",
              "    .colab-df-buttons div {\n",
              "      margin-bottom: 4px;\n",
              "    }\n",
              "\n",
              "    [theme=dark] .colab-df-convert {\n",
              "      background-color: #3B4455;\n",
              "      fill: #D2E3FC;\n",
              "    }\n",
              "\n",
              "    [theme=dark] .colab-df-convert:hover {\n",
              "      background-color: #434B5C;\n",
              "      box-shadow: 0px 1px 3px 1px rgba(0, 0, 0, 0.15);\n",
              "      filter: drop-shadow(0px 1px 2px rgba(0, 0, 0, 0.3));\n",
              "      fill: #FFFFFF;\n",
              "    }\n",
              "  </style>\n",
              "\n",
              "    <script>\n",
              "      const buttonEl =\n",
              "        document.querySelector('#df-b0b259ad-ff39-4682-9965-7a66d2e69dc3 button.colab-df-convert');\n",
              "      buttonEl.style.display =\n",
              "        google.colab.kernel.accessAllowed ? 'block' : 'none';\n",
              "\n",
              "      async function convertToInteractive(key) {\n",
              "        const element = document.querySelector('#df-b0b259ad-ff39-4682-9965-7a66d2e69dc3');\n",
              "        const dataTable =\n",
              "          await google.colab.kernel.invokeFunction('convertToInteractive',\n",
              "                                                    [key], {});\n",
              "        if (!dataTable) return;\n",
              "\n",
              "        const docLinkHtml = 'Like what you see? Visit the ' +\n",
              "          '<a target=\"_blank\" href=https://colab.research.google.com/notebooks/data_table.ipynb>data table notebook</a>'\n",
              "          + ' to learn more about interactive tables.';\n",
              "        element.innerHTML = '';\n",
              "        dataTable['output_type'] = 'display_data';\n",
              "        await google.colab.output.renderOutput(dataTable, element);\n",
              "        const docLink = document.createElement('div');\n",
              "        docLink.innerHTML = docLinkHtml;\n",
              "        element.appendChild(docLink);\n",
              "      }\n",
              "    </script>\n",
              "  </div>\n",
              "\n",
              "\n",
              "<div id=\"df-7bbf9994-b3e0-4465-ba56-5b4685f54493\">\n",
              "  <button class=\"colab-df-quickchart\" onclick=\"quickchart('df-7bbf9994-b3e0-4465-ba56-5b4685f54493')\"\n",
              "            title=\"Suggest charts\"\n",
              "            style=\"display:none;\">\n",
              "\n",
              "<svg xmlns=\"http://www.w3.org/2000/svg\" height=\"24px\"viewBox=\"0 0 24 24\"\n",
              "     width=\"24px\">\n",
              "    <g>\n",
              "        <path d=\"M19 3H5c-1.1 0-2 .9-2 2v14c0 1.1.9 2 2 2h14c1.1 0 2-.9 2-2V5c0-1.1-.9-2-2-2zM9 17H7v-7h2v7zm4 0h-2V7h2v10zm4 0h-2v-4h2v4z\"/>\n",
              "    </g>\n",
              "</svg>\n",
              "  </button>\n",
              "\n",
              "<style>\n",
              "  .colab-df-quickchart {\n",
              "      --bg-color: #E8F0FE;\n",
              "      --fill-color: #1967D2;\n",
              "      --hover-bg-color: #E2EBFA;\n",
              "      --hover-fill-color: #174EA6;\n",
              "      --disabled-fill-color: #AAA;\n",
              "      --disabled-bg-color: #DDD;\n",
              "  }\n",
              "\n",
              "  [theme=dark] .colab-df-quickchart {\n",
              "      --bg-color: #3B4455;\n",
              "      --fill-color: #D2E3FC;\n",
              "      --hover-bg-color: #434B5C;\n",
              "      --hover-fill-color: #FFFFFF;\n",
              "      --disabled-bg-color: #3B4455;\n",
              "      --disabled-fill-color: #666;\n",
              "  }\n",
              "\n",
              "  .colab-df-quickchart {\n",
              "    background-color: var(--bg-color);\n",
              "    border: none;\n",
              "    border-radius: 50%;\n",
              "    cursor: pointer;\n",
              "    display: none;\n",
              "    fill: var(--fill-color);\n",
              "    height: 32px;\n",
              "    padding: 0;\n",
              "    width: 32px;\n",
              "  }\n",
              "\n",
              "  .colab-df-quickchart:hover {\n",
              "    background-color: var(--hover-bg-color);\n",
              "    box-shadow: 0 1px 2px rgba(60, 64, 67, 0.3), 0 1px 3px 1px rgba(60, 64, 67, 0.15);\n",
              "    fill: var(--button-hover-fill-color);\n",
              "  }\n",
              "\n",
              "  .colab-df-quickchart-complete:disabled,\n",
              "  .colab-df-quickchart-complete:disabled:hover {\n",
              "    background-color: var(--disabled-bg-color);\n",
              "    fill: var(--disabled-fill-color);\n",
              "    box-shadow: none;\n",
              "  }\n",
              "\n",
              "  .colab-df-spinner {\n",
              "    border: 2px solid var(--fill-color);\n",
              "    border-color: transparent;\n",
              "    border-bottom-color: var(--fill-color);\n",
              "    animation:\n",
              "      spin 1s steps(1) infinite;\n",
              "  }\n",
              "\n",
              "  @keyframes spin {\n",
              "    0% {\n",
              "      border-color: transparent;\n",
              "      border-bottom-color: var(--fill-color);\n",
              "      border-left-color: var(--fill-color);\n",
              "    }\n",
              "    20% {\n",
              "      border-color: transparent;\n",
              "      border-left-color: var(--fill-color);\n",
              "      border-top-color: var(--fill-color);\n",
              "    }\n",
              "    30% {\n",
              "      border-color: transparent;\n",
              "      border-left-color: var(--fill-color);\n",
              "      border-top-color: var(--fill-color);\n",
              "      border-right-color: var(--fill-color);\n",
              "    }\n",
              "    40% {\n",
              "      border-color: transparent;\n",
              "      border-right-color: var(--fill-color);\n",
              "      border-top-color: var(--fill-color);\n",
              "    }\n",
              "    60% {\n",
              "      border-color: transparent;\n",
              "      border-right-color: var(--fill-color);\n",
              "    }\n",
              "    80% {\n",
              "      border-color: transparent;\n",
              "      border-right-color: var(--fill-color);\n",
              "      border-bottom-color: var(--fill-color);\n",
              "    }\n",
              "    90% {\n",
              "      border-color: transparent;\n",
              "      border-bottom-color: var(--fill-color);\n",
              "    }\n",
              "  }\n",
              "</style>\n",
              "\n",
              "  <script>\n",
              "    async function quickchart(key) {\n",
              "      const quickchartButtonEl =\n",
              "        document.querySelector('#' + key + ' button');\n",
              "      quickchartButtonEl.disabled = true;  // To prevent multiple clicks.\n",
              "      quickchartButtonEl.classList.add('colab-df-spinner');\n",
              "      try {\n",
              "        const charts = await google.colab.kernel.invokeFunction(\n",
              "            'suggestCharts', [key], {});\n",
              "      } catch (error) {\n",
              "        console.error('Error during call to suggestCharts:', error);\n",
              "      }\n",
              "      quickchartButtonEl.classList.remove('colab-df-spinner');\n",
              "      quickchartButtonEl.classList.add('colab-df-quickchart-complete');\n",
              "    }\n",
              "    (() => {\n",
              "      let quickchartButtonEl =\n",
              "        document.querySelector('#df-7bbf9994-b3e0-4465-ba56-5b4685f54493 button');\n",
              "      quickchartButtonEl.style.display =\n",
              "        google.colab.kernel.accessAllowed ? 'block' : 'none';\n",
              "    })();\n",
              "  </script>\n",
              "</div>\n",
              "\n",
              "    </div>\n",
              "  </div>\n"
            ],
            "application/vnd.google.colaboratory.intrinsic+json": {
              "type": "dataframe",
              "variable_name": "df",
              "summary": "{\n  \"name\": \"df\",\n  \"rows\": 3500,\n  \"fields\": [\n    {\n      \"column\": \"Sex\",\n      \"properties\": {\n        \"dtype\": \"category\",\n        \"num_unique_values\": 3,\n        \"samples\": [\n          \"F\",\n          \"M\",\n          \"I\"\n        ],\n        \"semantic_type\": \"\",\n        \"description\": \"\"\n      }\n    },\n    {\n      \"column\": \"Length\",\n      \"properties\": {\n        \"dtype\": \"number\",\n        \"std\": 0.2998056342103469,\n        \"min\": 0.1875,\n        \"max\": 2.0375,\n        \"num_unique_values\": 132,\n        \"samples\": [\n          1.2125,\n          1.2375,\n          1.1125\n        ],\n        \"semantic_type\": \"\",\n        \"description\": \"\"\n      }\n    },\n    {\n      \"column\": \"Diameter\",\n      \"properties\": {\n        \"dtype\": \"number\",\n        \"std\": 0.24825019637986992,\n        \"min\": 0.1375,\n        \"max\": 1.625,\n        \"num_unique_values\": 111,\n        \"samples\": [\n          0.55,\n          0.5375,\n          0.6625\n        ],\n        \"semantic_type\": \"\",\n        \"description\": \"\"\n      }\n    },\n    {\n      \"column\": \"Height\",\n      \"properties\": {\n        \"dtype\": \"number\",\n        \"std\": 0.10629273393210513,\n        \"min\": 0.0,\n        \"max\": 2.825,\n        \"num_unique_values\": 51,\n        \"samples\": [\n          0.625,\n          0.0625,\n          0.0375\n        ],\n        \"semantic_type\": \"\",\n        \"description\": \"\"\n      }\n    },\n    {\n      \"column\": \"Weight\",\n      \"properties\": {\n        \"dtype\": \"number\",\n        \"std\": 13.920088277705718,\n        \"min\": 0.056699,\n        \"max\": 80.10151225,\n        \"num_unique_values\": 2191,\n        \"samples\": [\n          11.92096475,\n          37.1094955,\n          43.147939\n        ],\n        \"semantic_type\": \"\",\n        \"description\": \"\"\n      }\n    },\n    {\n      \"column\": \"Shucked Weight\",\n      \"properties\": {\n        \"dtype\": \"number\",\n        \"std\": 6.297362910387482,\n        \"min\": 0.0283495,\n        \"max\": 42.184056,\n        \"num_unique_values\": 1435,\n        \"samples\": [\n          9.90815025,\n          4.706017,\n          18.86659225\n        ],\n        \"semantic_type\": \"\",\n        \"description\": \"\"\n      }\n    },\n    {\n      \"column\": \"Viscera Weight\",\n      \"properties\": {\n        \"dtype\": \"number\",\n        \"std\": 3.116261841297526,\n        \"min\": 0.01417475,\n        \"max\": 21.54562,\n        \"num_unique_values\": 855,\n        \"samples\": [\n          6.917278,\n          6.633783,\n          2.45223175\n        ],\n        \"semantic_type\": \"\",\n        \"description\": \"\"\n      }\n    },\n    {\n      \"column\": \"Shell Weight\",\n      \"properties\": {\n        \"dtype\": \"number\",\n        \"std\": 3.9453835109883206,\n        \"min\": 0.04252425,\n        \"max\": 28.4912475,\n        \"num_unique_values\": 870,\n        \"samples\": [\n          10.98543125,\n          9.51125725,\n          0.8788345\n        ],\n        \"semantic_type\": \"\",\n        \"description\": \"\"\n      }\n    },\n    {\n      \"column\": \"Age\",\n      \"properties\": {\n        \"dtype\": \"number\",\n        \"std\": 3,\n        \"min\": 1,\n        \"max\": 29,\n        \"num_unique_values\": 27,\n        \"samples\": [\n          20,\n          19,\n          5\n        ],\n        \"semantic_type\": \"\",\n        \"description\": \"\"\n      }\n    }\n  ]\n}"
            }
          },
          "metadata": {},
          "execution_count": 45
        }
      ]
    },
    {
      "cell_type": "markdown",
      "source": [
        "## Data Preprocessing\n"
      ],
      "metadata": {
        "id": "5x9TqoXVeI_P"
      }
    },
    {
      "cell_type": "markdown",
      "source": [
        "###Handling Null Values"
      ],
      "metadata": {
        "id": "-OM4Z41RU2Gi"
      }
    },
    {
      "cell_type": "code",
      "source": [
        "missing_values = df.isnull().sum()\n",
        "print(missing_values)"
      ],
      "metadata": {
        "colab": {
          "base_uri": "https://localhost:8080/"
        },
        "id": "0wzR4Ls7eRAA",
        "outputId": "afb870fa-ee74-499e-d270-a59f03af95db"
      },
      "execution_count": null,
      "outputs": [
        {
          "output_type": "stream",
          "name": "stdout",
          "text": [
            "Sex                0\n",
            "Length            44\n",
            "Diameter          32\n",
            "Height            87\n",
            "Weight            38\n",
            "Shucked Weight     0\n",
            "Viscera Weight     0\n",
            "Shell Weight       0\n",
            "Age                0\n",
            "dtype: int64\n"
          ]
        }
      ]
    },
    {
      "cell_type": "code",
      "source": [
        "#assessing impact of dropping entire rows containing >=1 null values:\n",
        "print(\"Number of Rows (Before Dropping Entire Rows Containing >=1 Null Values):\", df.shape[0]) # shape retrives dimension of df, dimension 0 means row\n",
        "\n",
        "#drop rows with null values\n",
        "df_cleaned = df.dropna()\n",
        "\n",
        "#print the number of rows after dropping null values\n",
        "print(\"Number of Rows (After Dropping Entire Rows Containing >=1 Null Values):\", df_cleaned.shape[0])"
      ],
      "metadata": {
        "colab": {
          "base_uri": "https://localhost:8080/"
        },
        "id": "BZycPI_weZZN",
        "outputId": "7bfe6ab1-5d8f-4a75-8ce1-9e8dca1f9da3"
      },
      "execution_count": null,
      "outputs": [
        {
          "output_type": "stream",
          "name": "stdout",
          "text": [
            "Number of Rows (Before Dropping Entire Rows Containing >=1 Null Values): 3500\n",
            "Number of Rows (After Dropping Entire Rows Containing >=1 Null Values): 3308\n"
          ]
        }
      ]
    },
    {
      "cell_type": "markdown",
      "source": [
        "Am worried that dropping all null values would lead to bias. Proceed with imputation."
      ],
      "metadata": {
        "id": "0NY_p1X-gOXi"
      }
    },
    {
      "cell_type": "code",
      "source": [
        "import matplotlib.pyplot as plt\n",
        "\n",
        "numerical_columns = ['Length', 'Diameter', 'Height', 'Weight']\n",
        "\n",
        "#visualize distribution to determine imputation implementation\n",
        "for col in numerical_columns:\n",
        "    plt.figure(figsize=(8, 4))\n",
        "    plt.hist(df[col], bins=20, color='blue', edgecolor='black')\n",
        "    plt.title(f'Histogram of {col}')\n",
        "    plt.xlabel('Values')\n",
        "    plt.ylabel('Frequency')\n",
        "    plt.show()"
      ],
      "metadata": {
        "colab": {
          "base_uri": "https://localhost:8080/",
          "height": 1000
        },
        "id": "1x5EiMEigWmV",
        "outputId": "9ecb4b6b-1c69-4752-c89f-bce8cbb2e1b0"
      },
      "execution_count": null,
      "outputs": [
        {
          "output_type": "display_data",
          "data": {
            "text/plain": [
              "<Figure size 800x400 with 1 Axes>"
            ],
            "image/png": "[encoded data removed]"
          },
          "metadata": {}
        },
        {
          "output_type": "display_data",
          "data": {
            "text/plain": [
              "<Figure size 800x400 with 1 Axes>"
            ],
            "image/png": "[encoded data removed]"
          },
          "metadata": {}
        },
        {
          "output_type": "display_data",
          "data": {
            "text/plain": [
              "<Figure size 800x400 with 1 Axes>"
            ],
            "image/png": "[encoded data removed]"
          },
          "metadata": {}
        },
        {
          "output_type": "display_data",
          "data": {
            "text/plain": [
              "<Figure size 800x400 with 1 Axes>"
            ],
            "image/png": "[encoded data removed]"
          },
          "metadata": {}
        }
      ]
    },
    {
      "cell_type": "markdown",
      "source": [
        "Proceed with median imputation for all columns containing missing values as they all have skewed distribution."
      ],
      "metadata": {
        "id": "oYKe3VuAgozu"
      }
    },
    {
      "cell_type": "code",
      "source": [
        "#perform median imputation for all columns with missing values as they display skewness\n",
        "#all columns containing null values are numerical columns\n",
        "numerical_columns = ['Length', 'Diameter', 'Height', 'Weight']\n",
        "for col in numerical_columns:\n",
        "    median_value = df[col].median()\n",
        "    df[col].fillna(median_value, inplace=True)\n",
        "\n",
        "#display updated df with missing value counts\n",
        "print(\"Missing Values Summary:\")\n",
        "print(df.isnull().sum())"
      ],
      "metadata": {
        "colab": {
          "base_uri": "https://localhost:8080/"
        },
        "id": "0rrqMvbPgxGv",
        "outputId": "9063a595-782e-48ee-f58b-6a9519c2f533"
      },
      "execution_count": null,
      "outputs": [
        {
          "output_type": "stream",
          "name": "stdout",
          "text": [
            "Missing Values Summary:\n",
            "Sex               0\n",
            "Length            0\n",
            "Diameter          0\n",
            "Height            0\n",
            "Weight            0\n",
            "Shucked Weight    0\n",
            "Viscera Weight    0\n",
            "Shell Weight      0\n",
            "Age               0\n",
            "dtype: int64\n"
          ]
        }
      ]
    },
    {
      "cell_type": "markdown",
      "source": [
        "###Handling Duplicate Values"
      ],
      "metadata": {
        "id": "TffaUqskU6IH"
      }
    },
    {
      "cell_type": "code",
      "source": [
        "#drop duplicates\n",
        "df.drop_duplicates(inplace=True)\n",
        "df.info()"
      ],
      "metadata": {
        "colab": {
          "base_uri": "https://localhost:8080/"
        },
        "id": "BGYkWD1YhAEA",
        "outputId": "abe65b56-8210-4cd6-fa00-cb13a5219721"
      },
      "execution_count": null,
      "outputs": [
        {
          "output_type": "stream",
          "name": "stdout",
          "text": [
            "<class 'pandas.core.frame.DataFrame'>\n",
            "Int64Index: 3500 entries, 0 to 3499\n",
            "Data columns (total 9 columns):\n",
            " #   Column          Non-Null Count  Dtype  \n",
            "---  ------          --------------  -----  \n",
            " 0   Sex             3500 non-null   object \n",
            " 1   Length          3500 non-null   float64\n",
            " 2   Diameter        3500 non-null   float64\n",
            " 3   Height          3500 non-null   float64\n",
            " 4   Weight          3500 non-null   float64\n",
            " 5   Shucked Weight  3500 non-null   float64\n",
            " 6   Viscera Weight  3500 non-null   float64\n",
            " 7   Shell Weight    3500 non-null   float64\n",
            " 8   Age             3500 non-null   int64  \n",
            "dtypes: float64(7), int64(1), object(1)\n",
            "memory usage: 273.4+ KB\n"
          ]
        }
      ]
    },
    {
      "cell_type": "markdown",
      "source": [
        "There were no duplicates."
      ],
      "metadata": {
        "id": "Cg0l7pEuhL3H"
      }
    },
    {
      "cell_type": "code",
      "source": [
        "df.head()"
      ],
      "metadata": {
        "colab": {
          "base_uri": "https://localhost:8080/",
          "height": 206
        },
        "id": "a-GyOwHGhXV8",
        "outputId": "78c71133-a68d-48d1-faf0-e0a3b9ce095b"
      },
      "execution_count": null,
      "outputs": [
        {
          "output_type": "execute_result",
          "data": {
            "text/plain": [
              "  Sex  Length  Diameter  Height     Weight  Shucked Weight  Viscera Weight  \\\n",
              "0   F  1.4375    1.1750  0.4125  24.635715       12.332033        5.584852   \n",
              "1   M  0.8875    0.6500  0.2125   5.400580        2.296310        1.374951   \n",
              "2   I  1.0375    0.7750  0.2500   7.952035        3.231843        1.601747   \n",
              "3   F  1.1750    0.8875  0.2500  13.480187        4.748541        2.282135   \n",
              "4   I  0.8875    0.6625  0.2125   6.903103        3.458639        1.488349   \n",
              "\n",
              "   Shell Weight  Age  \n",
              "0      6.747181    9  \n",
              "1      1.559222    6  \n",
              "2      2.764076    6  \n",
              "3      5.244657   10  \n",
              "4      1.700970    6  "
            ],
            "text/html": [
              "\n",
              "  <div id=\"df-18ae7104-980f-4074-8270-75100becb486\" class=\"colab-df-container\">\n",
              "    <div>\n",
              "<style scoped>\n",
              "    .dataframe tbody tr th:only-of-type {\n",
              "        vertical-align: middle;\n",
              "    }\n",
              "\n",
              "    .dataframe tbody tr th {\n",
              "        vertical-align: top;\n",
              "    }\n",
              "\n",
              "    .dataframe thead th {\n",
              "        text-align: right;\n",
              "    }\n",
              "</style>\n",
              "<table border=\"1\" class=\"dataframe\">\n",
              "  <thead>\n",
              "    <tr style=\"text-align: right;\">\n",
              "      <th></th>\n",
              "      <th>Sex</th>\n",
              "      <th>Length</th>\n",
              "      <th>Diameter</th>\n",
              "      <th>Height</th>\n",
              "      <th>Weight</th>\n",
              "      <th>Shucked Weight</th>\n",
              "      <th>Viscera Weight</th>\n",
              "      <th>Shell Weight</th>\n",
              "      <th>Age</th>\n",
              "    </tr>\n",
              "  </thead>\n",
              "  <tbody>\n",
              "    <tr>\n",
              "      <th>0</th>\n",
              "      <td>F</td>\n",
              "      <td>1.4375</td>\n",
              "      <td>1.1750</td>\n",
              "      <td>0.4125</td>\n",
              "      <td>24.635715</td>\n",
              "      <td>12.332033</td>\n",
              "      <td>5.584852</td>\n",
              "      <td>6.747181</td>\n",
              "      <td>9</td>\n",
              "    </tr>\n",
              "    <tr>\n",
              "      <th>1</th>\n",
              "      <td>M</td>\n",
              "      <td>0.8875</td>\n",
              "      <td>0.6500</td>\n",
              "      <td>0.2125</td>\n",
              "      <td>5.400580</td>\n",
              "      <td>2.296310</td>\n",
              "      <td>1.374951</td>\n",
              "      <td>1.559222</td>\n",
              "      <td>6</td>\n",
              "    </tr>\n",
              "    <tr>\n",
              "      <th>2</th>\n",
              "      <td>I</td>\n",
              "      <td>1.0375</td>\n",
              "      <td>0.7750</td>\n",
              "      <td>0.2500</td>\n",
              "      <td>7.952035</td>\n",
              "      <td>3.231843</td>\n",
              "      <td>1.601747</td>\n",
              "      <td>2.764076</td>\n",
              "      <td>6</td>\n",
              "    </tr>\n",
              "    <tr>\n",
              "      <th>3</th>\n",
              "      <td>F</td>\n",
              "      <td>1.1750</td>\n",
              "      <td>0.8875</td>\n",
              "      <td>0.2500</td>\n",
              "      <td>13.480187</td>\n",
              "      <td>4.748541</td>\n",
              "      <td>2.282135</td>\n",
              "      <td>5.244657</td>\n",
              "      <td>10</td>\n",
              "    </tr>\n",
              "    <tr>\n",
              "      <th>4</th>\n",
              "      <td>I</td>\n",
              "      <td>0.8875</td>\n",
              "      <td>0.6625</td>\n",
              "      <td>0.2125</td>\n",
              "      <td>6.903103</td>\n",
              "      <td>3.458639</td>\n",
              "      <td>1.488349</td>\n",
              "      <td>1.700970</td>\n",
              "      <td>6</td>\n",
              "    </tr>\n",
              "  </tbody>\n",
              "</table>\n",
              "</div>\n",
              "    <div class=\"colab-df-buttons\">\n",
              "\n",
              "  <div class=\"colab-df-container\">\n",
              "    <button class=\"colab-df-convert\" onclick=\"convertToInteractive('df-18ae7104-980f-4074-8270-75100becb486')\"\n",
              "            title=\"Convert this dataframe to an interactive table.\"\n",
              "            style=\"display:none;\">\n",
              "\n",
              "  <svg xmlns=\"http://www.w3.org/2000/svg\" height=\"24px\" viewBox=\"0 -960 960 960\">\n",
              "    <path d=\"M120-120v-720h720v720H120Zm60-500h600v-160H180v160Zm220 220h160v-160H400v160Zm0 220h160v-160H400v160ZM180-400h160v-160H180v160Zm440 0h160v-160H620v160ZM180-180h160v-160H180v160Zm440 0h160v-160H620v160Z\"/>\n",
              "  </svg>\n",
              "    </button>\n",
              "\n",
              "  <style>\n",
              "    .colab-df-container {\n",
              "      display:flex;\n",
              "      gap: 12px;\n",
              "    }\n",
              "\n",
              "    .colab-df-convert {\n",
              "      background-color: #E8F0FE;\n",
              "      border: none;\n",
              "      border-radius: 50%;\n",
              "      cursor: pointer;\n",
              "      display: none;\n",
              "      fill: #1967D2;\n",
              "      height: 32px;\n",
              "      padding: 0 0 0 0;\n",
              "      width: 32px;\n",
              "    }\n",
              "\n",
              "    .colab-df-convert:hover {\n",
              "      background-color: #E2EBFA;\n",
              "      box-shadow: 0px 1px 2px rgba(60, 64, 67, 0.3), 0px 1px 3px 1px rgba(60, 64, 67, 0.15);\n",
              "      fill: #174EA6;\n",
              "    }\n",
              "\n",
              "    .colab-df-buttons div {\n",
              "      margin-bottom: 4px;\n",
              "    }\n",
              "\n",
              "    [theme=dark] .colab-df-convert {\n",
              "      background-color: #3B4455;\n",
              "      fill: #D2E3FC;\n",
              "    }\n",
              "\n",
              "    [theme=dark] .colab-df-convert:hover {\n",
              "      background-color: #434B5C;\n",
              "      box-shadow: 0px 1px 3px 1px rgba(0, 0, 0, 0.15);\n",
              "      filter: drop-shadow(0px 1px 2px rgba(0, 0, 0, 0.3));\n",
              "      fill: #FFFFFF;\n",
              "    }\n",
              "  </style>\n",
              "\n",
              "    <script>\n",
              "      const buttonEl =\n",
              "        document.querySelector('#df-18ae7104-980f-4074-8270-75100becb486 button.colab-df-convert');\n",
              "      buttonEl.style.display =\n",
              "        google.colab.kernel.accessAllowed ? 'block' : 'none';\n",
              "\n",
              "      async function convertToInteractive(key) {\n",
              "        const element = document.querySelector('#df-18ae7104-980f-4074-8270-75100becb486');\n",
              "        const dataTable =\n",
              "          await google.colab.kernel.invokeFunction('convertToInteractive',\n",
              "                                                    [key], {});\n",
              "        if (!dataTable) return;\n",
              "\n",
              "        const docLinkHtml = 'Like what you see? Visit the ' +\n",
              "          '<a target=\"_blank\" href=https://colab.research.google.com/notebooks/data_table.ipynb>data table notebook</a>'\n",
              "          + ' to learn more about interactive tables.';\n",
              "        element.innerHTML = '';\n",
              "        dataTable['output_type'] = 'display_data';\n",
              "        await google.colab.output.renderOutput(dataTable, element);\n",
              "        const docLink = document.createElement('div');\n",
              "        docLink.innerHTML = docLinkHtml;\n",
              "        element.appendChild(docLink);\n",
              "      }\n",
              "    </script>\n",
              "  </div>\n",
              "\n",
              "\n",
              "<div id=\"df-71f18f7f-da13-4d37-bbdf-847ca3eb3a8a\">\n",
              "  <button class=\"colab-df-quickchart\" onclick=\"quickchart('df-71f18f7f-da13-4d37-bbdf-847ca3eb3a8a')\"\n",
              "            title=\"Suggest charts\"\n",
              "            style=\"display:none;\">\n",
              "\n",
              "<svg xmlns=\"http://www.w3.org/2000/svg\" height=\"24px\"viewBox=\"0 0 24 24\"\n",
              "     width=\"24px\">\n",
              "    <g>\n",
              "        <path d=\"M19 3H5c-1.1 0-2 .9-2 2v14c0 1.1.9 2 2 2h14c1.1 0 2-.9 2-2V5c0-1.1-.9-2-2-2zM9 17H7v-7h2v7zm4 0h-2V7h2v10zm4 0h-2v-4h2v4z\"/>\n",
              "    </g>\n",
              "</svg>\n",
              "  </button>\n",
              "\n",
              "<style>\n",
              "  .colab-df-quickchart {\n",
              "      --bg-color: #E8F0FE;\n",
              "      --fill-color: #1967D2;\n",
              "      --hover-bg-color: #E2EBFA;\n",
              "      --hover-fill-color: #174EA6;\n",
              "      --disabled-fill-color: #AAA;\n",
              "      --disabled-bg-color: #DDD;\n",
              "  }\n",
              "\n",
              "  [theme=dark] .colab-df-quickchart {\n",
              "      --bg-color: #3B4455;\n",
              "      --fill-color: #D2E3FC;\n",
              "      --hover-bg-color: #434B5C;\n",
              "      --hover-fill-color: #FFFFFF;\n",
              "      --disabled-bg-color: #3B4455;\n",
              "      --disabled-fill-color: #666;\n",
              "  }\n",
              "\n",
              "  .colab-df-quickchart {\n",
              "    background-color: var(--bg-color);\n",
              "    border: none;\n",
              "    border-radius: 50%;\n",
              "    cursor: pointer;\n",
              "    display: none;\n",
              "    fill: var(--fill-color);\n",
              "    height: 32px;\n",
              "    padding: 0;\n",
              "    width: 32px;\n",
              "  }\n",
              "\n",
              "  .colab-df-quickchart:hover {\n",
              "    background-color: var(--hover-bg-color);\n",
              "    box-shadow: 0 1px 2px rgba(60, 64, 67, 0.3), 0 1px 3px 1px rgba(60, 64, 67, 0.15);\n",
              "    fill: var(--button-hover-fill-color);\n",
              "  }\n",
              "\n",
              "  .colab-df-quickchart-complete:disabled,\n",
              "  .colab-df-quickchart-complete:disabled:hover {\n",
              "    background-color: var(--disabled-bg-color);\n",
              "    fill: var(--disabled-fill-color);\n",
              "    box-shadow: none;\n",
              "  }\n",
              "\n",
              "  .colab-df-spinner {\n",
              "    border: 2px solid var(--fill-color);\n",
              "    border-color: transparent;\n",
              "    border-bottom-color: var(--fill-color);\n",
              "    animation:\n",
              "      spin 1s steps(1) infinite;\n",
              "  }\n",
              "\n",
              "  @keyframes spin {\n",
              "    0% {\n",
              "      border-color: transparent;\n",
              "      border-bottom-color: var(--fill-color);\n",
              "      border-left-color: var(--fill-color);\n",
              "    }\n",
              "    20% {\n",
              "      border-color: transparent;\n",
              "      border-left-color: var(--fill-color);\n",
              "      border-top-color: var(--fill-color);\n",
              "    }\n",
              "    30% {\n",
              "      border-color: transparent;\n",
              "      border-left-color: var(--fill-color);\n",
              "      border-top-color: var(--fill-color);\n",
              "      border-right-color: var(--fill-color);\n",
              "    }\n",
              "    40% {\n",
              "      border-color: transparent;\n",
              "      border-right-color: var(--fill-color);\n",
              "      border-top-color: var(--fill-color);\n",
              "    }\n",
              "    60% {\n",
              "      border-color: transparent;\n",
              "      border-right-color: var(--fill-color);\n",
              "    }\n",
              "    80% {\n",
              "      border-color: transparent;\n",
              "      border-right-color: var(--fill-color);\n",
              "      border-bottom-color: var(--fill-color);\n",
              "    }\n",
              "    90% {\n",
              "      border-color: transparent;\n",
              "      border-bottom-color: var(--fill-color);\n",
              "    }\n",
              "  }\n",
              "</style>\n",
              "\n",
              "  <script>\n",
              "    async function quickchart(key) {\n",
              "      const quickchartButtonEl =\n",
              "        document.querySelector('#' + key + ' button');\n",
              "      quickchartButtonEl.disabled = true;  // To prevent multiple clicks.\n",
              "      quickchartButtonEl.classList.add('colab-df-spinner');\n",
              "      try {\n",
              "        const charts = await google.colab.kernel.invokeFunction(\n",
              "            'suggestCharts', [key], {});\n",
              "      } catch (error) {\n",
              "        console.error('Error during call to suggestCharts:', error);\n",
              "      }\n",
              "      quickchartButtonEl.classList.remove('colab-df-spinner');\n",
              "      quickchartButtonEl.classList.add('colab-df-quickchart-complete');\n",
              "    }\n",
              "    (() => {\n",
              "      let quickchartButtonEl =\n",
              "        document.querySelector('#df-71f18f7f-da13-4d37-bbdf-847ca3eb3a8a button');\n",
              "      quickchartButtonEl.style.display =\n",
              "        google.colab.kernel.accessAllowed ? 'block' : 'none';\n",
              "    })();\n",
              "  </script>\n",
              "</div>\n",
              "\n",
              "    </div>\n",
              "  </div>\n"
            ],
            "application/vnd.google.colaboratory.intrinsic+json": {
              "type": "dataframe",
              "variable_name": "df",
              "summary": "{\n  \"name\": \"df\",\n  \"rows\": 3500,\n  \"fields\": [\n    {\n      \"column\": \"Sex\",\n      \"properties\": {\n        \"dtype\": \"category\",\n        \"num_unique_values\": 3,\n        \"samples\": [\n          \"F\",\n          \"M\",\n          \"I\"\n        ],\n        \"semantic_type\": \"\",\n        \"description\": \"\"\n      }\n    },\n    {\n      \"column\": \"Length\",\n      \"properties\": {\n        \"dtype\": \"number\",\n        \"std\": 0.2979918408962605,\n        \"min\": 0.1875,\n        \"max\": 2.0375,\n        \"num_unique_values\": 132,\n        \"samples\": [\n          1.2125,\n          1.2375,\n          1.1125\n        ],\n        \"semantic_type\": \"\",\n        \"description\": \"\"\n      }\n    },\n    {\n      \"column\": \"Diameter\",\n      \"properties\": {\n        \"dtype\": \"number\",\n        \"std\": 0.24714193970977896,\n        \"min\": 0.1375,\n        \"max\": 1.625,\n        \"num_unique_values\": 111,\n        \"samples\": [\n          0.55,\n          0.5375,\n          0.6625\n        ],\n        \"semantic_type\": \"\",\n        \"description\": \"\"\n      }\n    },\n    {\n      \"column\": \"Height\",\n      \"properties\": {\n        \"dtype\": \"number\",\n        \"std\": 0.10497957697028426,\n        \"min\": 0.0,\n        \"max\": 2.825,\n        \"num_unique_values\": 51,\n        \"samples\": [\n          0.625,\n          0.0625,\n          0.0375\n        ],\n        \"semantic_type\": \"\",\n        \"description\": \"\"\n      }\n    },\n    {\n      \"column\": \"Weight\",\n      \"properties\": {\n        \"dtype\": \"number\",\n        \"std\": 13.844467223595174,\n        \"min\": 0.056699,\n        \"max\": 80.10151225,\n        \"num_unique_values\": 2191,\n        \"samples\": [\n          5.88252125,\n          37.1094955,\n          43.147939\n        ],\n        \"semantic_type\": \"\",\n        \"description\": \"\"\n      }\n    },\n    {\n      \"column\": \"Shucked Weight\",\n      \"properties\": {\n        \"dtype\": \"number\",\n        \"std\": 6.297362910387482,\n        \"min\": 0.0283495,\n        \"max\": 42.184056,\n        \"num_unique_values\": 1435,\n        \"samples\": [\n          9.90815025,\n          4.706017,\n          18.86659225\n        ],\n        \"semantic_type\": \"\",\n        \"description\": \"\"\n      }\n    },\n    {\n      \"column\": \"Viscera Weight\",\n      \"properties\": {\n        \"dtype\": \"number\",\n        \"std\": 3.116261841297526,\n        \"min\": 0.01417475,\n        \"max\": 21.54562,\n        \"num_unique_values\": 855,\n        \"samples\": [\n          6.917278,\n          6.633783,\n          2.45223175\n        ],\n        \"semantic_type\": \"\",\n        \"description\": \"\"\n      }\n    },\n    {\n      \"column\": \"Shell Weight\",\n      \"properties\": {\n        \"dtype\": \"number\",\n        \"std\": 3.9453835109883206,\n        \"min\": 0.04252425,\n        \"max\": 28.4912475,\n        \"num_unique_values\": 870,\n        \"samples\": [\n          10.98543125,\n          9.51125725,\n          0.8788345\n        ],\n        \"semantic_type\": \"\",\n        \"description\": \"\"\n      }\n    },\n    {\n      \"column\": \"Age\",\n      \"properties\": {\n        \"dtype\": \"number\",\n        \"std\": 3,\n        \"min\": 1,\n        \"max\": 29,\n        \"num_unique_values\": 27,\n        \"samples\": [\n          20,\n          19,\n          5\n        ],\n        \"semantic_type\": \"\",\n        \"description\": \"\"\n      }\n    }\n  ]\n}"
            }
          },
          "metadata": {},
          "execution_count": 51
        }
      ]
    },
    {
      "cell_type": "markdown",
      "source": [
        "###Data Normalisation"
      ],
      "metadata": {
        "id": "RvoRFt8cU97U"
      }
    },
    {
      "cell_type": "code",
      "source": [
        "#normalisation on numerical columns\n",
        "from sklearn.preprocessing import MinMaxScaler\n",
        "\n",
        "numerical_columns = ['Length', 'Diameter', 'Height', 'Weight',\n",
        "                     'Shucked Weight', 'Viscera Weight', 'Shell Weight', 'Age']\n",
        "\n",
        "df[numerical_columns] = MinMaxScaler().fit_transform(df[numerical_columns])\n",
        "\n",
        "print(df)"
      ],
      "metadata": {
        "colab": {
          "base_uri": "https://localhost:8080/"
        },
        "id": "kWp1e6HSh-KW",
        "outputId": "cbe6430f-3241-4674-9ab4-7bb3ba9e04b6"
      },
      "execution_count": null,
      "outputs": [
        {
          "output_type": "stream",
          "name": "stdout",
          "text": [
            "     Sex    Length  Diameter    Height    Weight  Shucked Weight  \\\n",
            "0      F  0.675676  0.697479  0.146018  0.307066        0.291863   \n",
            "1      M  0.378378  0.344538  0.075221  0.066761        0.053800   \n",
            "2      I  0.459459  0.428571  0.088496  0.098636        0.075992   \n",
            "3      F  0.533784  0.504202  0.088496  0.167700        0.111970   \n",
            "4      I  0.378378  0.352941  0.075221  0.085532        0.081372   \n",
            "...   ..       ...       ...       ...       ...             ...   \n",
            "3495   I  0.405405  0.369748  0.084071  0.086595        0.073302   \n",
            "3496   F  0.736486  0.722689  0.154867  0.429786        0.365837   \n",
            "3497   I  0.236486  0.218487  0.057522  0.024438        0.017485   \n",
            "3498   I  0.472973  0.428571  0.092920  0.128564        0.106254   \n",
            "3499   I  0.324324  0.319328  0.075221  0.050115        0.034970   \n",
            "\n",
            "      Viscera Weight  Shell Weight       Age  \n",
            "0           0.258723      0.235675  0.285714  \n",
            "1           0.063199      0.053313  0.178571  \n",
            "2           0.073733      0.095665  0.178571  \n",
            "3           0.105332      0.182860  0.321429  \n",
            "4           0.068466      0.058296  0.178571  \n",
            "...              ...           ...       ...  \n",
            "3495        0.053983      0.075735  0.178571  \n",
            "3496        0.332456      0.342302  0.321429  \n",
            "3497        0.023700      0.020927  0.142857  \n",
            "3498        0.107966      0.103139  0.178571  \n",
            "3499        0.061883      0.048331  0.250000  \n",
            "\n",
            "[3500 rows x 9 columns]\n"
          ]
        }
      ]
    },
    {
      "cell_type": "markdown",
      "source": [
        "###Data Scaling"
      ],
      "metadata": {
        "id": "BtVSymMaVCsQ"
      }
    },
    {
      "cell_type": "code",
      "source": [
        "from sklearn.preprocessing import OneHotEncoder, StandardScaler\n",
        "from sklearn.compose import ColumnTransformer\n",
        "\n",
        "#separate numerical and categorical columns\n",
        "numerical_columns = ['Length', 'Diameter', 'Height', 'Weight', 'Shucked Weight', 'Viscera Weight',\n",
        "                'Shell Weight', 'Age']\n",
        "categorical_columns = ['Sex']\n",
        "\n",
        "#define transformations for numerical and categorical columns\n",
        "numeric_transformer = StandardScaler()\n",
        "categorical_transformer = OneHotEncoder()\n",
        "\n",
        "#column transformer to apply different transformations to different columns\n",
        "preprocessor = ColumnTransformer(\n",
        "    transformers=[\n",
        "        ('num', numeric_transformer, numerical_columns),\n",
        "        ('cat', categorical_transformer, categorical_columns)])\n",
        "\n",
        "#fit and transform data\n",
        "X_processed = preprocessor.fit_transform(df[numerical_columns + categorical_columns])\n",
        "\n",
        "#convert transformed data back to a df\n",
        "columns = numerical_columns + list(preprocessor.named_transformers_['cat'].get_feature_names_out(categorical_columns))\n",
        "X_processed_df = pd.DataFrame(X_processed, columns=columns)\n",
        "\n",
        "#display processed df\n",
        "print(X_processed_df.head())\n",
        "\n",
        "#concat the transformed features with the original df\n",
        "df = pd.concat([df.drop(columns=numerical_columns + categorical_columns), X_processed_df], axis=1)\n",
        "\n",
        "#display processed df\n",
        "print(df.head())"
      ],
      "metadata": {
        "colab": {
          "base_uri": "https://localhost:8080/"
        },
        "id": "6dW6CvTsin-g",
        "outputId": "f9dce0bb-834b-4077-f096-0a5c3052dd23"
      },
      "execution_count": null,
      "outputs": [
        {
          "output_type": "stream",
          "name": "stdout",
          "text": [
            "     Length  Diameter    Height    Weight  Shucked Weight  Viscera Weight  \\\n",
            "0  0.411491  0.616203  0.587749  0.061840        0.325395        0.133623   \n",
            "1 -1.434460 -1.508386 -1.317655 -1.327732       -1.268472       -1.217516   \n",
            "2 -0.931019 -1.002531 -0.960392 -1.143411       -1.119891       -1.144727   \n",
            "3 -0.469531 -0.547262 -0.960392 -0.744050       -0.879010       -0.926361   \n",
            "4 -1.434460 -1.457800 -1.317655 -1.219188       -1.083871       -1.181121   \n",
            "\n",
            "   Shell Weight       Age  Sex_F  Sex_I  Sex_M  \n",
            "0     -0.021304 -0.304037    1.0    0.0    0.0  \n",
            "1     -1.336436 -1.236937    0.0    0.0    1.0  \n",
            "2     -1.031009 -1.236937    0.0    1.0    0.0  \n",
            "3     -0.402189  0.006930    1.0    0.0    0.0  \n",
            "4     -1.300503 -1.236937    0.0    1.0    0.0  \n",
            "     Length  Diameter    Height    Weight  Shucked Weight  Viscera Weight  \\\n",
            "0  0.411491  0.616203  0.587749  0.061840        0.325395        0.133623   \n",
            "1 -1.434460 -1.508386 -1.317655 -1.327732       -1.268472       -1.217516   \n",
            "2 -0.931019 -1.002531 -0.960392 -1.143411       -1.119891       -1.144727   \n",
            "3 -0.469531 -0.547262 -0.960392 -0.744050       -0.879010       -0.926361   \n",
            "4 -1.434460 -1.457800 -1.317655 -1.219188       -1.083871       -1.181121   \n",
            "\n",
            "   Shell Weight       Age  Sex_F  Sex_I  Sex_M  \n",
            "0     -0.021304 -0.304037    1.0    0.0    0.0  \n",
            "1     -1.336436 -1.236937    0.0    0.0    1.0  \n",
            "2     -1.031009 -1.236937    0.0    1.0    0.0  \n",
            "3     -0.402189  0.006930    1.0    0.0    0.0  \n",
            "4     -1.300503 -1.236937    0.0    1.0    0.0  \n"
          ]
        }
      ]
    },
    {
      "cell_type": "code",
      "source": [
        "print(df.columns)"
      ],
      "metadata": {
        "colab": {
          "base_uri": "https://localhost:8080/"
        },
        "id": "UXlPpt35p3Dg",
        "outputId": "67e833ec-bded-4367-d9b4-29b5ed0c9ffc"
      },
      "execution_count": null,
      "outputs": [
        {
          "output_type": "stream",
          "name": "stdout",
          "text": [
            "Index(['Length', 'Diameter', 'Height', 'Weight', 'Shucked Weight',\n",
            "       'Viscera Weight', 'Shell Weight', 'Age', 'Sex_F', 'Sex_I', 'Sex_M'],\n",
            "      dtype='object')\n"
          ]
        }
      ]
    },
    {
      "cell_type": "markdown",
      "source": [
        "###Data Splitting"
      ],
      "metadata": {
        "id": "jeNZbvJIVE4O"
      }
    },
    {
      "cell_type": "code",
      "source": [
        "from sklearn.model_selection import train_test_split\n",
        "from sklearn.preprocessing import OneHotEncoder, StandardScaler\n",
        "from sklearn.compose import ColumnTransformer\n",
        "from sklearn.pipeline import Pipeline\n",
        "\n",
        "#separate target variable 'Age' from the features\n",
        "y = df['Age']\n",
        "X = df.drop(columns=['Age'], axis=1)\n",
        "\n",
        "#split dataset into training and testing sets (70% train, 30% test as dataset is quite small)\n",
        "X_train, X_test, y_train, y_test = train_test_split(X, y, test_size=0.3, random_state=42)\n",
        "\n",
        "#define column transformer for preprocessing\n",
        "numeric_features = ['Length', 'Diameter', 'Height', 'Weight', 'Shucked Weight', 'Viscera Weight', 'Shell Weight']\n",
        "categorical_features = ['Sex_F', 'Sex_I', 'Sex_M']\n",
        "\n",
        "numeric_transformer = StandardScaler()\n",
        "categorical_transformer = OneHotEncoder(drop='first')  # drop the first column to avoid multicollinearity\n",
        "\n",
        "preprocessor = ColumnTransformer(\n",
        "    transformers=[\n",
        "        ('num', numeric_transformer, numeric_features),\n",
        "        ('cat', categorical_transformer, categorical_features)])\n",
        "\n",
        "#create a pipeline with preprocessing\n",
        "pipeline = Pipeline(steps=[\n",
        "    ('preprocessor', preprocessor)\n",
        "])\n",
        "\n",
        "#fit and transform the training data\n",
        "X_train_processed = pipeline.fit_transform(X_train)\n",
        "#transform the test data\n",
        "X_test_processed = pipeline.transform(X_test)\n",
        "\n",
        "#print shapes of the training and testing sets to verify the splitting process has been performed correctly\n",
        "print(\"Shape of X_train:\", X_train_processed.shape)\n",
        "print(\"Shape of y_train:\", y_train.shape)\n",
        "print(\"Shape of X_test:\", X_test_processed.shape)\n",
        "print(\"Shape of y_test:\", y_test.shape)\n"
      ],
      "metadata": {
        "colab": {
          "base_uri": "https://localhost:8080/"
        },
        "id": "VSoaVTCyqW99",
        "outputId": "7f7de8de-077f-44c5-ff0c-cf923fea7dda"
      },
      "execution_count": null,
      "outputs": [
        {
          "output_type": "stream",
          "name": "stdout",
          "text": [
            "Shape of X_train: (2450, 10)\n",
            "Shape of y_train: (2450,)\n",
            "Shape of X_test: (1050, 10)\n",
            "Shape of y_test: (1050,)\n"
          ]
        }
      ]
    },
    {
      "cell_type": "markdown",
      "source": [
        "## Regression Model Development"
      ],
      "metadata": {
        "id": "UyVxep2rneaP"
      }
    },
    {
      "cell_type": "markdown",
      "source": [
        "###Linear Regression"
      ],
      "metadata": {
        "id": "tUgJ9JPnurxq"
      }
    },
    {
      "cell_type": "code",
      "source": [
        "from sklearn.linear_model import LinearRegression\n",
        "from sklearn.metrics import mean_squared_error, r2_score\n",
        "import numpy as np\n",
        "\n",
        "#initialize LR model\n",
        "linear_model = LinearRegression()\n",
        "\n",
        "#fit model on preprocessed training data\n",
        "linear_model.fit(X_train_processed, y_train)\n",
        "\n",
        "#predictions on the preprocessed test data\n",
        "linear_predictions = linear_model.predict(X_test_processed)\n",
        "\n",
        "#evaluate model\n",
        "mse = mean_squared_error(y_test, linear_predictions)\n",
        "rmse = np.sqrt(mse)\n",
        "r2 = r2_score(y_test, linear_predictions)\n",
        "\n",
        "#evaluation metrics\n",
        "print(\"Initial Linear Regression Model\")\n",
        "print(\"Minimum MSE:\", mse)\n",
        "print(\"RMSE:\", rmse)\n",
        "print(\"R-squared:\", r2)"
      ],
      "metadata": {
        "colab": {
          "base_uri": "https://localhost:8080/"
        },
        "id": "pGD47_E9uKHf",
        "outputId": "7035dead-4c97-4081-a935-21b56d89019b"
      },
      "execution_count": null,
      "outputs": [
        {
          "output_type": "stream",
          "name": "stdout",
          "text": [
            "Initial Linear Regression Model\n",
            "Minimum MSE: 0.47303457947823335\n",
            "RMSE: 0.6877750936739665\n",
            "R-squared: 0.479745065063643\n"
          ]
        }
      ]
    },
    {
      "cell_type": "markdown",
      "source": [
        "Results seem to suggest that the linear regression model explains approximately 48% of the variance in the target variable and has moderate level of predictive performance."
      ],
      "metadata": {
        "id": "4WHEsunCucQ3"
      }
    },
    {
      "cell_type": "markdown",
      "source": [
        "Check for overfitting:"
      ],
      "metadata": {
        "id": "X-JoFxuqa7l4"
      }
    },
    {
      "cell_type": "code",
      "source": [
        "from sklearn.linear_model import LinearRegression\n",
        "from sklearn.metrics import mean_squared_error, r2_score\n",
        "\n",
        "#predictions on training and testing data\n",
        "train_predictions = linear_model.predict(X_train)\n",
        "test_predictions = linear_model.predict(X_test)\n",
        "\n",
        "#evaluate the model on training data\n",
        "train_mse = mean_squared_error(y_train, train_predictions)\n",
        "train_rmse = np.sqrt(train_mse)\n",
        "train_r2 = r2_score(y_train, train_predictions)\n",
        "\n",
        "#evaluate the model on testing data\n",
        "test_mse = mean_squared_error(y_test, test_predictions)\n",
        "test_rmse = np.sqrt(test_mse)\n",
        "test_r2 = r2_score(y_test, test_predictions)\n",
        "\n",
        "#evaluation metrics\n",
        "print(\"Training MSE:\", train_mse)\n",
        "print(\"Training RMSE:\", train_rmse)\n",
        "print(\"Training R-squared:\", train_r2)\n",
        "print(\"Testing MSE:\", test_mse)\n",
        "print(\"Testing RMSE:\", test_rmse)\n",
        "print(\"Testing R-squared:\", test_r2)\n"
      ],
      "metadata": {
        "colab": {
          "base_uri": "https://localhost:8080/"
        },
        "id": "Bzhytawra9ZZ",
        "outputId": "947dfb9e-1a43-4c5e-fee2-960c3e7f816c"
      },
      "execution_count": null,
      "outputs": [
        {
          "output_type": "stream",
          "name": "stdout",
          "text": [
            "Training MSE: 0.4959801537727281\n",
            "Training RMSE: 0.7042585844508593\n",
            "Training R-squared: 0.5215142895403279\n",
            "Testing MSE: 0.4730345794782333\n",
            "Testing RMSE: 0.6877750936739664\n",
            "Testing R-squared: 0.479745065063643\n"
          ]
        }
      ]
    },
    {
      "cell_type": "markdown",
      "source": [
        "The model's performance on the testing dataset is similar to its performance on the training dataset, which suggests that the model is not overfitting. This conclusion is supported by the similar values of MSE, RMSE, and R-squared on both the training and testing datasets."
      ],
      "metadata": {
        "id": "awWK0zv2bEm-"
      }
    },
    {
      "cell_type": "markdown",
      "source": [
        "Next, experiment with different hyperparameters:"
      ],
      "metadata": {
        "id": "JrlFVcHpwjpK"
      }
    },
    {
      "cell_type": "code",
      "source": [
        "from sklearn.linear_model import Lasso\n",
        "from sklearn.metrics import mean_squared_error, r2_score\n",
        "import matplotlib.pyplot as plt\n",
        "\n",
        "#initialize Lasso Regression model\n",
        "lasso_model = Lasso(alpha=0.1)  #alpha: regularization strength, higher alpha means more regularization\n",
        "\n",
        "#fit the model on the preprocessed training data\n",
        "lasso_model.fit(X_train_processed, y_train)\n",
        "\n",
        "#predictions on the preprocessed test data\n",
        "lasso_predictions = lasso_model.predict(X_test_processed)\n",
        "\n",
        "#evaluate the model\n",
        "mse_lasso = mean_squared_error(y_test, lasso_predictions)\n",
        "rmse_lasso = np.sqrt(mse_lasso)\n",
        "r2_lasso = r2_score(y_test, lasso_predictions)\n",
        "\n",
        "#evaluation metrics\n",
        "print(\"Lasso Regression:\")\n",
        "print(\"Minimum Mean Squared Error:\", mse_lasso)\n",
        "print(\"Root Mean Squared Error:\", rmse_lasso)\n",
        "print(\"R-squared:\", r2_lasso)\n",
        "\n",
        "#visualization of predictions vs actual values for Lasso Regression\n",
        "plt.scatter(y_test, lasso_predictions)\n",
        "plt.xlabel('True Values')\n",
        "plt.ylabel('Predictions')\n",
        "plt.title('Lasso Regression Predictions vs True Values')\n",
        "plt.show()"
      ],
      "metadata": {
        "colab": {
          "base_uri": "https://localhost:8080/",
          "height": 541
        },
        "id": "kPAa57Dpvx2a",
        "outputId": "946e42eb-5607-4002-f4d5-0d2c249eafc2"
      },
      "execution_count": null,
      "outputs": [
        {
          "output_type": "stream",
          "name": "stdout",
          "text": [
            "Lasso Regression:\n",
            "Minimum Mean Squared Error: 0.552593843396056\n",
            "Root Mean Squared Error: 0.7433665605850561\n",
            "R-squared: 0.392243851687643\n"
          ]
        },
        {
          "output_type": "display_data",
          "data": {
            "text/plain": [
              "<Figure size 640x480 with 1 Axes>"
            ],
            "image/png": "[encoded data removed]"
          },
          "metadata": {}
        }
      ]
    },
    {
      "cell_type": "markdown",
      "source": [
        "Lasso Regression model performs slightly worse than the initial Linear Regression model in terms of both Minimum MSE and R-squared, indicates that Lasso Regression may be too aggressive in penalizing coefficients, resulting in higher prediction errors compared to initial model. RMSE for Lasso Regression is higher than the initial model, indicating larger errors in prediction."
      ],
      "metadata": {
        "id": "TzrqNqN6wL7Z"
      }
    },
    {
      "cell_type": "markdown",
      "source": [
        "Checking for overfitting:"
      ],
      "metadata": {
        "id": "DS-j9eHCbmcw"
      }
    },
    {
      "cell_type": "code",
      "source": [
        "from sklearn.metrics import mean_squared_error, r2_score\n",
        "\n",
        "#predictions on the training set\n",
        "lasso_train_predictions = lasso_model.predict(X_train_processed)\n",
        "\n",
        "#evaluate the model on the training set\n",
        "mse_train = mean_squared_error(y_train, lasso_train_predictions)\n",
        "rmse_train = np.sqrt(mse_train)\n",
        "r2_train = r2_score(y_train, lasso_train_predictions)\n",
        "\n",
        "#print training set evaluation metrics\n",
        "print(\"Training MSE:\", mse_train)\n",
        "print(\"Training RMSE:\", rmse_train)\n",
        "print(\"Training R-squared:\", r2_train)\n",
        "\n",
        "#print testing set evaluation metrics (already calculated)\n",
        "print(\"Testing MSE:\", mse_lasso)\n",
        "print(\"Testing RMSE:\", rmse_lasso)\n",
        "print(\"Testing R-squared:\", r2_lasso)\n"
      ],
      "metadata": {
        "colab": {
          "base_uri": "https://localhost:8080/"
        },
        "id": "aceIjJBpbn9g",
        "outputId": "f1dda0c1-d668-46d7-b74b-67045bd1d76b"
      },
      "execution_count": null,
      "outputs": [
        {
          "output_type": "stream",
          "name": "stdout",
          "text": [
            "Training MSE: 0.49611842197065287\n",
            "Training RMSE: 0.7043567433982959\n",
            "Training R-squared: 0.5213808984027697\n",
            "Testing MSE: 0.47063317557228335\n",
            "Testing RMSE: 0.6860270953630646\n",
            "Testing R-squared: 0.48238618748269313\n"
          ]
        }
      ]
    },
    {
      "cell_type": "markdown",
      "source": [
        "The model's performance on the testing set is comparable to that on the training set, indicating good generalization. It explains approximately 48.24% of the variance in the target variable, which is a moderate level of predictive ability."
      ],
      "metadata": {
        "id": "1nVh04sMb3n2"
      }
    },
    {
      "cell_type": "markdown",
      "source": [
        "Attempting Ridge regression:"
      ],
      "metadata": {
        "id": "Kkw6FNsZcAjb"
      }
    },
    {
      "cell_type": "code",
      "source": [
        "from sklearn.linear_model import Ridge\n",
        "import numpy as np\n",
        "\n",
        "#initialize Ridge Regression model\n",
        "ridge_model = Ridge(alpha=0.1)\n",
        "\n",
        "#fit the model on the preprocessed training data\n",
        "ridge_model.fit(X_train_processed, y_train)\n",
        "\n",
        "#predictions on the preprocessed test data\n",
        "ridge_predictions = ridge_model.predict(X_test_processed)\n",
        "\n",
        "#evaluate the model\n",
        "mse_ridge = mean_squared_error(y_test, ridge_predictions)\n",
        "rmse_ridge = np.sqrt(mse_ridge)\n",
        "r2_ridge = r2_score(y_test, ridge_predictions)\n",
        "\n",
        "#evaluation metrics\n",
        "print(\"\\nRidge Regression:\")\n",
        "print(\"Minimum Mean Squared Error:\", mse_ridge)\n",
        "print(\"Root Mean Squared Error:\", rmse_ridge)\n",
        "print(\"R-squared:\", r2_ridge)\n",
        "\n",
        "#visualization of predictions vs actual values for Ridge Regression\n",
        "plt.scatter(y_test, ridge_predictions)\n",
        "plt.xlabel('True Values')\n",
        "plt.ylabel('Predictions')\n",
        "plt.title('Ridge Regression Predictions vs True Values')\n",
        "plt.show()"
      ],
      "metadata": {
        "colab": {
          "base_uri": "https://localhost:8080/",
          "height": 559
        },
        "id": "WmO1ckZEwK3i",
        "outputId": "b73908da-c668-4fc7-a8ef-9c9b9fbdb7c1"
      },
      "execution_count": null,
      "outputs": [
        {
          "output_type": "stream",
          "name": "stdout",
          "text": [
            "\n",
            "Ridge Regression:\n",
            "Minimum Mean Squared Error: 0.47296611591440807\n",
            "Root Mean Squared Error: 0.6877253201056422\n",
            "R-squared: 0.47982036295620445\n"
          ]
        },
        {
          "output_type": "display_data",
          "data": {
            "text/plain": [
              "<Figure size 640x480 with 1 Axes>"
            ],
            "image/png": "[encoded data removed]"
          },
          "metadata": {}
        }
      ]
    },
    {
      "cell_type": "markdown",
      "source": [
        "The Ridge Regression model performs similarly to the initial model in terms of Minimum MSE and R-squared. The RMSE for Ridge Regression is comparable to the initial model, indicating similar prediction errors."
      ],
      "metadata": {
        "id": "tK2rNYWbwXTt"
      }
    },
    {
      "cell_type": "markdown",
      "source": [
        "Checking for overfitting:"
      ],
      "metadata": {
        "id": "uGnE90escIzC"
      }
    },
    {
      "cell_type": "code",
      "source": [
        "#training set evaluation\n",
        "train_predictions_ridge = ridge_model.predict(X_train_processed)\n",
        "train_mse_ridge = mean_squared_error(y_train, train_predictions_ridge)\n",
        "train_rmse_ridge = np.sqrt(train_mse_ridge)\n",
        "train_r2_ridge = r2_score(y_train, train_predictions_ridge)\n",
        "\n",
        "print(\"\\nTraining MSE:\", train_mse_ridge)\n",
        "print(\"Training RMSE:\", train_rmse_ridge)\n",
        "print(\"Training R-squared:\", train_r2_ridge)\n",
        "\n",
        "#testing set evaluation\n",
        "test_predictions_ridge = ridge_model.predict(X_test_processed)\n",
        "test_mse_ridge = mean_squared_error(y_test, test_predictions_ridge)\n",
        "test_rmse_ridge = np.sqrt(test_mse_ridge)\n",
        "test_r2_ridge = r2_score(y_test, test_predictions_ridge)\n",
        "\n",
        "print(\"\\nTesting MSE:\", test_mse_ridge)\n",
        "print(\"Testing RMSE:\", test_rmse_ridge)\n",
        "print(\"Testing R-squared:\", test_r2_ridge)\n"
      ],
      "metadata": {
        "colab": {
          "base_uri": "https://localhost:8080/"
        },
        "id": "HEePE2qhcKhg",
        "outputId": "202b530f-28a3-4ae5-c0f3-5b4046f75dd9"
      },
      "execution_count": null,
      "outputs": [
        {
          "output_type": "stream",
          "name": "stdout",
          "text": [
            "\n",
            "Training MSE: 0.4959938262230289\n",
            "Training RMSE: 0.7042682913656051\n",
            "Training R-squared: 0.521501099351071\n",
            "\n",
            "Testing MSE: 0.47238672418670175\n",
            "Testing RMSE: 0.6873039532744605\n",
            "Testing R-squared: 0.4804575920694185\n"
          ]
        }
      ]
    },
    {
      "cell_type": "markdown",
      "source": [
        "The testing MSE is slightly lower than the training MSE, which is a good sign. It suggests that the model is not significantly overfitting the training data. Additionally, the R-squared value for the testing set is 0.4804575920694185, indicating that the model explains about 48.05% of the variance in the testing data. Overall, these results suggest that the Ridge Regression model is performing reasonably well and does not appear to be overfitting."
      ],
      "metadata": {
        "id": "fBwpY39dcTFv"
      }
    },
    {
      "cell_type": "markdown",
      "source": [
        "Proceed to perform cross-validation with k-fold cross validation to find optimal alpha value for Lasso and Ridge regression"
      ],
      "metadata": {
        "id": "SNYhgKbyC4af"
      }
    },
    {
      "cell_type": "code",
      "source": [
        "from sklearn.linear_model import LassoCV, RidgeCV\n",
        "from sklearn.model_selection import KFold\n",
        "\n",
        "# Define the range of alpha values to try\n",
        "alphas = [0.001, 0.01, 0.1, 1, 10]\n",
        "\n",
        "# Perform k-fold cross-validation for Lasso regression\n",
        "lasso_cv = LassoCV(alphas=alphas, cv=5)  # 5-fold cross-validation\n",
        "lasso_cv.fit(X_train_processed, y_train)\n",
        "\n",
        "# Get the optimal alpha value selected by cross-validation\n",
        "optimal_alpha_lasso = lasso_cv.alpha_\n",
        "\n",
        "# Perform k-fold cross-validation for Ridge regression\n",
        "ridge_cv = RidgeCV(alphas=alphas, cv=5)  # 5-fold cross-validation\n",
        "ridge_cv.fit(X_train_processed, y_train)\n",
        "\n",
        "# Get the optimal alpha value selected by cross-validation\n",
        "optimal_alpha_ridge = ridge_cv.alpha_\n",
        "\n",
        "print(\"Optimal alpha for Lasso regression:\", optimal_alpha_lasso)\n",
        "print(\"Optimal alpha for Ridge regression:\", optimal_alpha_ridge)\n"
      ],
      "metadata": {
        "colab": {
          "base_uri": "https://localhost:8080/"
        },
        "id": "HaH56ysFC_Ti",
        "outputId": "b089331b-e1a2-4f85-ff8c-1bcd682ead85"
      },
      "execution_count": null,
      "outputs": [
        {
          "output_type": "stream",
          "name": "stdout",
          "text": [
            "Optimal alpha for Lasso regression: 0.001\n",
            "Optimal alpha for Ridge regression: 1.0\n"
          ]
        }
      ]
    },
    {
      "cell_type": "markdown",
      "source": [
        "Applying these values:"
      ],
      "metadata": {
        "id": "qWH99ihsDBca"
      }
    },
    {
      "cell_type": "code",
      "source": [
        "from sklearn.linear_model import Lasso\n",
        "from sklearn.metrics import mean_squared_error, r2_score\n",
        "import matplotlib.pyplot as plt\n",
        "\n",
        "#initialize Lasso Regression model with optimized alpha\n",
        "lasso_model_optimized = Lasso(alpha=0.001)  # alpha: regularization strength, higher alpha means more regularization\n",
        "\n",
        "#fit the model on the preprocessed training data\n",
        "lasso_model_optimized.fit(X_train_processed, y_train)\n",
        "\n",
        "#predictions on the preprocessed test data\n",
        "lasso_predictions_optimized = lasso_model_optimized.predict(X_test_processed)\n",
        "\n",
        "#evaluate the model\n",
        "mse_lasso_optimized = mean_squared_error(y_test, lasso_predictions_optimized)\n",
        "rmse_lasso_optimized = np.sqrt(mse_lasso_optimized)\n",
        "r2_lasso_optimized = r2_score(y_test, lasso_predictions_optimized)\n",
        "\n",
        "#evaluation metrics\n",
        "print(\"Lasso Regression (with optimized alpha):\")\n",
        "print(\"Minimum Mean Squared Error:\", mse_lasso_optimized)\n",
        "print(\"Root Mean Squared Error:\", rmse_lasso_optimized)\n",
        "print(\"R-squared:\", r2_lasso_optimized)\n"
      ],
      "metadata": {
        "colab": {
          "base_uri": "https://localhost:8080/"
        },
        "outputId": "6e7f1a1a-ca39-4962-e31d-abd914d7c437",
        "id": "G___BqgDDF8e"
      },
      "execution_count": null,
      "outputs": [
        {
          "output_type": "stream",
          "name": "stdout",
          "text": [
            "Lasso Regression (with optimized alpha):\n",
            "Minimum Mean Squared Error: 0.47063317557228335\n",
            "Root Mean Squared Error: 0.6860270953630646\n",
            "R-squared: 0.48238618748269313\n"
          ]
        }
      ]
    },
    {
      "cell_type": "markdown",
      "source": [
        "Lasso regression with optimal alpha slightly reduces the MSE and RMSE, and slightly improves the R-squared value compared to the initial Lasso regression."
      ],
      "metadata": {
        "id": "mJQY1CocDskG"
      }
    },
    {
      "cell_type": "markdown",
      "source": [
        "Checking for overfitting:"
      ],
      "metadata": {
        "id": "UBnqDX_bcYti"
      }
    },
    {
      "cell_type": "code",
      "source": [
        "#predictions on the preprocessed training data\n",
        "lasso_predictions_train_optimized = lasso_model_optimized.predict(X_train_processed)\n",
        "\n",
        "#evaluate the model on training data\n",
        "mse_lasso_train_optimized = mean_squared_error(y_train, lasso_predictions_train_optimized)\n",
        "rmse_lasso_train_optimized = np.sqrt(mse_lasso_train_optimized)\n",
        "r2_lasso_train_optimized = r2_score(y_train, lasso_predictions_train_optimized)\n",
        "\n",
        "#evaluation metrics for testing set\n",
        "print(\"Lasso Regression (with optimized alpha) - Testing Set:\")\n",
        "print(\"Minimum Mean Squared Error:\", mse_lasso_optimized)\n",
        "print(\"Root Mean Squared Error:\", rmse_lasso_optimized)\n",
        "print(\"R-squared:\", r2_lasso_optimized)\n",
        "\n",
        "#evaluation metrics for training set\n",
        "print(\"\\nLasso Regression (with optimized alpha) - Training Set:\")\n",
        "print(\"Minimum Mean Squared Error:\", mse_lasso_train_optimized)\n",
        "print(\"Root Mean Squared Error:\", rmse_lasso_train_optimized)\n",
        "print(\"R-squared:\", r2_lasso_train_optimized)\n"
      ],
      "metadata": {
        "colab": {
          "base_uri": "https://localhost:8080/"
        },
        "id": "z7OxeK8GdhRi",
        "outputId": "0b13887c-8336-45f6-8e87-18f647374ebe"
      },
      "execution_count": null,
      "outputs": [
        {
          "output_type": "stream",
          "name": "stdout",
          "text": [
            "Lasso Regression (with optimized alpha) - Testing Set:\n",
            "Minimum Mean Squared Error: 0.47063317557228335\n",
            "Root Mean Squared Error: 0.6860270953630646\n",
            "R-squared: 0.48238618748269313\n",
            "\n",
            "Lasso Regression (with optimized alpha) - Training Set:\n",
            "Minimum Mean Squared Error: 0.49611842197065287\n",
            "Root Mean Squared Error: 0.7043567433982959\n",
            "R-squared: 0.5213808984027697\n"
          ]
        }
      ]
    },
    {
      "cell_type": "markdown",
      "source": [
        "The testing set's MSE and RMSE are lower than those of the training set, indicating better performance on the testing data.\n",
        "The R-squared value is slightly higher for the training set, suggesting a slight overfitting of the model. However, the difference in R-squared values between the training and testing sets is not substantial, indicating that the overfitting is not severe."
      ],
      "metadata": {
        "id": "uS-ex9LYeBNL"
      }
    },
    {
      "cell_type": "code",
      "source": [
        "from sklearn.linear_model import Ridge\n",
        "import numpy as np\n",
        "\n",
        "#initialize Ridge Regression model with optimized alpha\n",
        "ridge_model_optimized = Ridge(alpha=1.0)\n",
        "\n",
        "#fit the model on the preprocessed training data\n",
        "ridge_model_optimized.fit(X_train_processed, y_train)\n",
        "\n",
        "#predictions on the preprocessed test data\n",
        "ridge_predictions_optimized = ridge_model_optimized.predict(X_test_processed)\n",
        "\n",
        "#evaluate the model\n",
        "mse_ridge_optimized = mean_squared_error(y_test, ridge_predictions_optimized)\n",
        "rmse_ridge_optimized = np.sqrt(mse_ridge_optimized)\n",
        "r2_ridge_optimized = r2_score(y_test, ridge_predictions_optimized)\n",
        "\n",
        "#print evaluation metrics\n",
        "print(\"\\nRidge Regression (with optimized alpha):\")\n",
        "print(\"Minimum Mean Squared Error:\", mse_ridge_optimized)\n",
        "print(\"Root Mean Squared Error:\", rmse_ridge_optimized)\n",
        "print(\"R-squared:\", r2_ridge_optimized)\n"
      ],
      "metadata": {
        "colab": {
          "base_uri": "https://localhost:8080/"
        },
        "outputId": "05391f1e-8f05-4062-bc7c-57224bfd3cc5",
        "id": "iOlvoSH9DLgB"
      },
      "execution_count": null,
      "outputs": [
        {
          "output_type": "stream",
          "name": "stdout",
          "text": [
            "\n",
            "Ridge Regression (with optimized alpha):\n",
            "Minimum Mean Squared Error: 0.47238672418670175\n",
            "Root Mean Squared Error: 0.6873039532744605\n",
            "R-squared: 0.4804575920694185\n"
          ]
        }
      ]
    },
    {
      "cell_type": "markdown",
      "source": [
        "Ridge regression with optimal alpha shows a similar MSE and RMSE as the initial Ridge regression, but slightly improves the R-squared value."
      ],
      "metadata": {
        "id": "1Qj9EZ-RDuig"
      }
    },
    {
      "cell_type": "markdown",
      "source": [
        "Checking for overfitting:"
      ],
      "metadata": {
        "id": "KglEl98VeXi9"
      }
    },
    {
      "cell_type": "code",
      "source": [
        "from sklearn.linear_model import Ridge\n",
        "from sklearn.metrics import mean_squared_error, r2_score\n",
        "\n",
        "#initialize Ridge Regression model with optimized alpha\n",
        "ridge_model_optimized = Ridge(alpha=1.0)\n",
        "\n",
        "#fit the model on the preprocessed training data\n",
        "ridge_model_optimized.fit(X_train_processed, y_train)\n",
        "\n",
        "#predictions on the preprocessed training data\n",
        "ridge_predictions_train = ridge_model_optimized.predict(X_train_processed)\n",
        "\n",
        "#evaluate the model on the training set\n",
        "mse_ridge_train = mean_squared_error(y_train, ridge_predictions_train)\n",
        "rmse_ridge_train = np.sqrt(mse_ridge_train)\n",
        "r2_ridge_train = r2_score(y_train, ridge_predictions_train)\n",
        "\n",
        "#evaluation metrics for the training set\n",
        "print(\"Ridge Regression (with optimized alpha) - Training Set:\")\n",
        "print(\"Minimum Mean Squared Error:\", mse_ridge_train)\n",
        "print(\"Root Mean Squared Error:\", rmse_ridge_train)\n",
        "print(\"R-squared:\", r2_ridge_train)\n",
        "\n",
        "#predictions on the preprocessed test data\n",
        "ridge_predictions_test = ridge_model_optimized.predict(X_test_processed)\n",
        "\n",
        "#evaluate the model on the test set\n",
        "mse_ridge_test = mean_squared_error(y_test, ridge_predictions_test)\n",
        "rmse_ridge_test = np.sqrt(mse_ridge_test)\n",
        "r2_ridge_test = r2_score(y_test, ridge_predictions_test)\n",
        "\n",
        "#print evaluation metrics for the test set\n",
        "print(\"\\nRidge Regression (with optimized alpha) - Test Set:\")\n",
        "print(\"Minimum Mean Squared Error:\", mse_ridge_test)\n",
        "print(\"Root Mean Squared Error:\", rmse_ridge_test)\n",
        "print(\"R-squared:\", r2_ridge_test)\n"
      ],
      "metadata": {
        "colab": {
          "base_uri": "https://localhost:8080/"
        },
        "id": "3Tu65s8MeZQY",
        "outputId": "4c0548f7-812f-4a31-ea57-9a75b756509b"
      },
      "execution_count": null,
      "outputs": [
        {
          "output_type": "stream",
          "name": "stdout",
          "text": [
            "Ridge Regression (with optimized alpha) - Training Set:\n",
            "Minimum Mean Squared Error: 0.4959938262230289\n",
            "Root Mean Squared Error: 0.7042682913656051\n",
            "R-squared: 0.521501099351071\n",
            "\n",
            "Ridge Regression (with optimized alpha) - Test Set:\n",
            "Minimum Mean Squared Error: 0.47238672418670175\n",
            "Root Mean Squared Error: 0.6873039532744605\n",
            "R-squared: 0.4804575920694185\n"
          ]
        }
      ]
    },
    {
      "cell_type": "markdown",
      "source": [
        "The model appears to perform slightly better on the training set than on the test set, but the difference is not significant, suggesting that the model is not overfitting."
      ],
      "metadata": {
        "id": "4zptu3JNe738"
      }
    },
    {
      "cell_type": "markdown",
      "source": [
        "###Polynomial Regression"
      ],
      "metadata": {
        "id": "Kxm3mYi_UdVB"
      }
    },
    {
      "cell_type": "code",
      "source": [
        "import seaborn as sns\n",
        "\n",
        "sns.pairplot(df, x_vars=['Length', 'Diameter', 'Height', 'Weight', 'Shucked Weight', 'Viscera Weight', 'Shell Weight','Sex_F', 'Sex_I', 'Sex_M'],\n",
        "             y_vars='Age', kind='scatter')\n",
        "plt.show()"
      ],
      "metadata": {
        "colab": {
          "base_uri": "https://localhost:8080/",
          "height": 102
        },
        "id": "eZ4b4W2CEG-j",
        "outputId": "82d2c28b-d4df-41f8-d529-e3630fe3d2cb"
      },
      "execution_count": null,
      "outputs": [
        {
          "output_type": "display_data",
          "data": {
            "text/plain": [
              "<Figure size 2500x250 with 10 Axes>"
            ],
            "image/png": "[encoded data removed]"
          },
          "metadata": {}
        }
      ]
    },
    {
      "cell_type": "markdown",
      "source": [
        "Observed that relationship between certain features and the target variable are non-linear while others seem to have linear relationship. Decide to approach fine tuning with polynomial regression to capture non-linear relationships in the data."
      ],
      "metadata": {
        "id": "OQlG3gcuI4Rp"
      }
    },
    {
      "cell_type": "code",
      "source": [
        "from sklearn.preprocessing import PolynomialFeatures\n",
        "from sklearn.pipeline import make_pipeline\n",
        "from sklearn.metrics import mean_squared_error, r2_score\n",
        "\n",
        "#degrees to iterate over\n",
        "degrees = [1, 2]\n",
        "\n",
        "for degree in degrees:\n",
        "    #create polynomial regression pipeline\n",
        "    polynomial_regression = make_pipeline(\n",
        "        PolynomialFeatures(degree),\n",
        "        LinearRegression()\n",
        "    )\n",
        "\n",
        "    #fit polynomial regression model on preprocessed training data\n",
        "    polynomial_regression.fit(X_train_processed, y_train)\n",
        "\n",
        "    #predictions on the preprocessed training data\n",
        "    poly_linear_predictions_train = polynomial_regression.predict(X_train_processed)\n",
        "\n",
        "    #evaluate the polynomial regression model on training data\n",
        "    poly_mse_train = mean_squared_error(y_train, poly_linear_predictions_train)\n",
        "    poly_rmse_train = np.sqrt(poly_mse_train)\n",
        "    poly_r2_train = r2_score(y_train, poly_linear_predictions_train)\n",
        "\n",
        "    #predictions on the preprocessed test data\n",
        "    poly_linear_predictions_test = polynomial_regression.predict(X_test_processed)\n",
        "\n",
        "    #evaluate the polynomial regression model on test data\n",
        "    poly_mse_test = mean_squared_error(y_test, poly_linear_predictions_test)\n",
        "    poly_rmse_test = np.sqrt(poly_mse_test)\n",
        "    poly_r2_test = r2_score(y_test, poly_linear_predictions_test)\n",
        "\n",
        "    #print evaluation metrics for polynomial regression with current degree\n",
        "    print(\"Polynomial Regression (Degree {}):\".format(degree))\n",
        "    print(\"Training Set - Minimum MSE:\", poly_mse_train)\n",
        "    print(\"Training Set - RMSE:\", poly_rmse_train)\n",
        "    print(\"Training Set - R-squared:\", poly_r2_train)\n",
        "    print(\"Test Set - Minimum MSE:\", poly_mse_test)\n",
        "    print(\"Test Set - RMSE:\", poly_rmse_test)\n",
        "    print(\"Test Set - R-squared:\", poly_r2_test)\n",
        "    print()\n"
      ],
      "metadata": {
        "colab": {
          "base_uri": "https://localhost:8080/"
        },
        "id": "qexrIoleJNQ5",
        "outputId": "e9b90161-122e-4745-a3ae-8995603f8aa6"
      },
      "execution_count": null,
      "outputs": [
        {
          "output_type": "stream",
          "name": "stdout",
          "text": [
            "Polynomial Regression (Degree 1):\n",
            "Training Set - Minimum MSE: 0.4959801537727281\n",
            "Training Set - RMSE: 0.7042585844508593\n",
            "Training Set - R-squared: 0.5215142895403279\n",
            "Test Set - Minimum MSE: 0.47303457947823324\n",
            "Test Set - RMSE: 0.6877750936739664\n",
            "Test Set - R-squared: 0.4797450650636431\n",
            "\n",
            "Polynomial Regression (Degree 2):\n",
            "Training Set - Minimum MSE: 0.4999212448332961\n",
            "Training Set - RMSE: 0.7070510906810739\n",
            "Training Set - R-squared: 0.5177122104818052\n",
            "Test Set - Minimum MSE: 0.7645285212596024\n",
            "Test Set - RMSE: 0.8743732162295471\n",
            "Test Set - R-squared: 0.15915293862104196\n",
            "\n"
          ]
        }
      ]
    },
    {
      "cell_type": "markdown",
      "source": [
        "I attempted polynomial regression with different degrees as to compare and contrast with aim to yield best results."
      ],
      "metadata": {
        "id": "p4WY9bMVaYvc"
      }
    },
    {
      "cell_type": "markdown",
      "source": [
        "It's evident that the polynomial regression model with degree 1 performs better than the one with degree 2, as it has lower MSE, RMSE, and higher R-squared on the test set. Additionally, the model with degree 2 seems to be overfitting, as indicated by the higher MSE and RMSE on the test set compared to the training set. Meanwhile, polynomial regression model with degree 1 does not exhibit signs of overfitting. This conclusion is drawn from the fact that the metrics on the test set are quite similar to those on the training set, suggesting that the model generalizes well to unseen data. Specifically, the MSE, RMSE, and R-squared values on the test set are comparable to those on the training set, indicating that the model's performance on unseen data is consistent with its performance on the training data. Therefore, the polynomial regression model with degree 1 appears to be appropriately fitting the data without overfitting."
      ],
      "metadata": {
        "id": "TCcsi1TAfSOr"
      }
    },
    {
      "cell_type": "markdown",
      "source": [
        "###Decision Tree Regression"
      ],
      "metadata": {
        "id": "iMmhrHHyUgkL"
      }
    },
    {
      "cell_type": "code",
      "source": [
        "from sklearn.tree import DecisionTreeRegressor\n",
        "\n",
        "#initialize Decision Tree Regression model\n",
        "tree_model = DecisionTreeRegressor(random_state=42)\n",
        "\n",
        "#fit the model on the preprocessed training data\n",
        "tree_model.fit(X_train_processed, y_train)\n",
        "\n",
        "#predictions on the preprocessed training data\n",
        "tree_predictions_train = tree_model.predict(X_train_processed)\n",
        "\n",
        "#evaluate the model on the training set\n",
        "tree_mse_train = mean_squared_error(y_train, tree_predictions_train)\n",
        "tree_rmse_train = np.sqrt(tree_mse_train)\n",
        "tree_r2_train = r2_score(y_train, tree_predictions_train)\n",
        "\n",
        "#evaluation metrics for the training set\n",
        "print(\"Decision Tree Regression (Training Set):\")\n",
        "print(\"Minimum MSE:\", tree_mse_train)\n",
        "print(\"RMSE:\", tree_rmse_train)\n",
        "print(\"R-squared:\", tree_r2_train)\n",
        "\n",
        "#predictions on the preprocessed test data\n",
        "tree_predictions_test = tree_model.predict(X_test_processed)\n",
        "\n",
        "#evaluate the model on the test set\n",
        "tree_mse_test = mean_squared_error(y_test, tree_predictions_test)\n",
        "tree_rmse_test = np.sqrt(tree_mse_test)\n",
        "tree_r2_test = r2_score(y_test, tree_predictions_test)\n",
        "\n",
        "#evaluation metrics for the test set\n",
        "print(\"\\nDecision Tree Regression (Test Set):\")\n",
        "print(\"Minimum MSE:\", tree_mse_test)\n",
        "print(\"RMSE:\", tree_rmse_test)\n",
        "print(\"R-squared:\", tree_r2_test)"
      ],
      "metadata": {
        "colab": {
          "base_uri": "https://localhost:8080/"
        },
        "id": "1sSibCZTNGS6",
        "outputId": "5c177fa6-a871-430f-ab1b-ead3f0cfd1ae"
      },
      "execution_count": null,
      "outputs": [
        {
          "output_type": "stream",
          "name": "stdout",
          "text": [
            "Decision Tree Regression (Training Set):\n",
            "Minimum MSE: 1.0351566383169341e-33\n",
            "RMSE: 3.2173850225251784e-17\n",
            "R-squared: 1.0\n",
            "\n",
            "Decision Tree Regression (Test Set):\n",
            "Minimum MSE: 0.8852231951274737\n",
            "RMSE: 0.9408630055047725\n",
            "R-squared: 0.026410000949222856\n"
          ]
        }
      ]
    },
    {
      "cell_type": "markdown",
      "source": [
        "On the training set, the model achieved extremely low MSE and RMSE values, along with a perfect R-squared score of 1.0, indicating that the model perfectly fits the training data. However, on the test set, the model's performance dropped significantly, with higher MSE and RMSE values and a very low R-squared score. This suggests that the model did not generalize well to unseen data and may have overfit the training data."
      ],
      "metadata": {
        "id": "GbWQDO5Ohx6-"
      }
    },
    {
      "cell_type": "markdown",
      "source": [
        "Proceed with fine-tuning the model:"
      ],
      "metadata": {
        "id": "BoyHhOdaaP7s"
      }
    },
    {
      "cell_type": "code",
      "source": [
        "from sklearn.model_selection import RandomizedSearchCV\n",
        "from scipy.stats import randint\n",
        "\n",
        "#define hyperparameter distributions to search\n",
        "param_dist = {\n",
        "    'max_depth': [None, 10, 20, 30],\n",
        "    'min_samples_split': randint(2, 20),\n",
        "    'min_samples_leaf': randint(1, 10)\n",
        "}\n",
        "\n",
        "#initialize Decision Tree Regression model\n",
        "tree_model = DecisionTreeRegressor(random_state=42)\n",
        "\n",
        "#initialize Randomized Search Cross-Validation\n",
        "random_search = RandomizedSearchCV(tree_model, param_distributions=param_dist, n_iter=100,\n",
        "                                   cv=5, scoring='neg_mean_squared_error', random_state=42, n_jobs=-1)\n",
        "\n",
        "#fit the Randomized Search to the preprocessed training data\n",
        "random_search.fit(X_train_processed, y_train)\n",
        "\n",
        "#get the best hyperparameters\n",
        "best_params = random_search.best_params_\n",
        "\n",
        "#print the best hyperparameters\n",
        "print(\"Best Hyperparameters:\", best_params)\n",
        "\n",
        "#get the best model from the random search\n",
        "best_tree_model = random_search.best_estimator_\n",
        "\n",
        "#predictions on the preprocessed test data using the best model\n",
        "best_tree_predictions = best_tree_model.predict(X_test_processed)\n",
        "\n",
        "#evaluate best model\n",
        "best_tree_mse = mean_squared_error(y_test, best_tree_predictions)\n",
        "best_tree_rmse = np.sqrt(best_tree_mse)\n",
        "best_tree_r2 = r2_score(y_test, best_tree_predictions)\n",
        "\n",
        "#evaluation metrics\n",
        "print(\"Best Decision Tree Regression:\")\n",
        "print(\"Minimum MSE:\", best_tree_mse)\n",
        "print(\"RMSE:\", best_tree_rmse)\n",
        "print(\"R-squared:\", best_tree_r2)\n"
      ],
      "metadata": {
        "colab": {
          "base_uri": "https://localhost:8080/"
        },
        "id": "QGHnkjcFNfZQ",
        "outputId": "c9a082ad-3c75-4730-a27f-9cfb0aac0fb1"
      },
      "execution_count": null,
      "outputs": [
        {
          "output_type": "stream",
          "name": "stdout",
          "text": [
            "Best Hyperparameters: {'max_depth': 10, 'min_samples_leaf': 9, 'min_samples_split': 3}\n",
            "Best Decision Tree Regression:\n",
            "Minimum MSE: 0.5391196914494014\n",
            "RMSE: 0.7342477044222893\n",
            "R-squared: 0.4070630516963645\n"
          ]
        }
      ]
    },
    {
      "cell_type": "markdown",
      "source": [
        "The Decision Tree Regression model has a higher MSE and RMSE compared to the initial Linear Regression model, indicating that it performs worse in terms of prediction accuracy.\n",
        "The R-squared value of the Decision Tree Regression model is lower than that of the initial Linear Regression model, suggesting that the Decision Tree model explains less of the variance in the target variable compared to the Linear Regression model."
      ],
      "metadata": {
        "id": "XyKeyJYvN2Zn"
      }
    },
    {
      "cell_type": "markdown",
      "source": [
        "Checking for overfitting:"
      ],
      "metadata": {
        "id": "lSgz3wZFg8qH"
      }
    },
    {
      "cell_type": "code",
      "source": [
        "#evaluate the best model on the training set\n",
        "best_tree_predictions_train = best_tree_model.predict(X_train_processed)\n",
        "\n",
        "#calculate evaluation metrics for the training set\n",
        "best_tree_mse_train = mean_squared_error(y_train, best_tree_predictions_train)\n",
        "best_tree_rmse_train = np.sqrt(best_tree_mse_train)\n",
        "best_tree_r2_train = r2_score(y_train, best_tree_predictions_train)\n",
        "\n",
        "#evaluation metrics for the training set\n",
        "print(\"Decision Tree Regression (Training Set):\")\n",
        "print(\"Minimum MSE:\", best_tree_mse_train)\n",
        "print(\"RMSE:\", best_tree_rmse_train)\n",
        "print(\"R-squared:\", best_tree_r2_train)"
      ],
      "metadata": {
        "colab": {
          "base_uri": "https://localhost:8080/"
        },
        "id": "2NKlNMe1g-kH",
        "outputId": "9de13a4a-4985-4338-f4b1-463ead17315e"
      },
      "execution_count": null,
      "outputs": [
        {
          "output_type": "stream",
          "name": "stdout",
          "text": [
            "Decision Tree Regression (Training Set):\n",
            "Minimum MSE: 0.33362500321165217\n",
            "RMSE: 0.577602807482488\n",
            "R-squared: 0.6781427735070487\n"
          ]
        }
      ]
    },
    {
      "cell_type": "markdown",
      "source": [
        "MSE on the training set is significantly lower than that on the test set, indicating overfitting."
      ],
      "metadata": {
        "id": "-cdi3P1XhR8_"
      }
    },
    {
      "cell_type": "markdown",
      "source": [
        "###K-Nearest Neighbours Regression"
      ],
      "metadata": {
        "id": "8G_YXQHUUjD_"
      }
    },
    {
      "cell_type": "code",
      "source": [
        "from sklearn.neighbors import KNeighborsRegressor\n",
        "\n",
        "#initialize KNN Regression model\n",
        "knn_model = KNeighborsRegressor(n_neighbors=5)\n",
        "\n",
        "#fit the model on the preprocessed training data\n",
        "knn_model.fit(X_train_processed, y_train)\n",
        "\n",
        "#predictions on the preprocessed test data\n",
        "knn_predictions = knn_model.predict(X_test_processed)\n",
        "\n",
        "#evaluate the model\n",
        "mse_knn = mean_squared_error(y_test, knn_predictions)\n",
        "rmse_knn = np.sqrt(mse_knn)\n",
        "r2_knn = r2_score(y_test, knn_predictions)\n",
        "\n",
        "#evaluation metrics\n",
        "print(\"KNN Regression:\")\n",
        "print(\"Minimum MSE:\", mse_knn)\n",
        "print(\"RMSE:\", rmse_knn)\n",
        "print(\"R-squared:\", r2_knn)\n"
      ],
      "metadata": {
        "colab": {
          "base_uri": "https://localhost:8080/"
        },
        "id": "7AIFTpojOA0_",
        "outputId": "e3cf023c-067e-4698-f4d0-d436946274d0"
      },
      "execution_count": null,
      "outputs": [
        {
          "output_type": "stream",
          "name": "stdout",
          "text": [
            "KNN Regression:\n",
            "Minimum MSE: 0.43884304438597826\n",
            "RMSE: 0.662452295932302\n",
            "R-squared: 0.5173497469125179\n"
          ]
        }
      ]
    },
    {
      "cell_type": "markdown",
      "source": [
        "Checking for overfitting:"
      ],
      "metadata": {
        "id": "AOn-c5KykEjD"
      }
    },
    {
      "cell_type": "code",
      "source": [
        "#predictions on the preprocessed training data\n",
        "knn_train_predictions = knn_model.predict(X_train_processed)\n",
        "\n",
        "#evaluate the model on the training set\n",
        "mse_knn_train = mean_squared_error(y_train, knn_train_predictions)\n",
        "rmse_knn_train = np.sqrt(mse_knn_train)\n",
        "r2_knn_train = r2_score(y_train, knn_train_predictions)\n",
        "\n",
        "#evaluation metrics for the training set\n",
        "print(\"KNN Regression (Training Set):\")\n",
        "print(\"Minimum MSE:\", mse_knn_train)\n",
        "print(\"RMSE:\", rmse_knn_train)\n",
        "print(\"R-squared:\", r2_knn_train)\n"
      ],
      "metadata": {
        "colab": {
          "base_uri": "https://localhost:8080/"
        },
        "id": "oN0S6biYkGWQ",
        "outputId": "7e3f709f-814c-4275-ff99-aa8bc3b80205"
      },
      "execution_count": null,
      "outputs": [
        {
          "output_type": "stream",
          "name": "stdout",
          "text": [
            "KNN Regression (Training Set):\n",
            "Minimum MSE: 0.36536020437525396\n",
            "RMSE: 0.6044503324304272\n",
            "R-squared: 0.6475269511604458\n"
          ]
        }
      ]
    },
    {
      "cell_type": "markdown",
      "source": [
        "The performance on the training set is better than on the test set, indicating some degree of overfitting. However, the difference in performance is not extreme, suggesting that the model generalizes reasonably well to unseen data."
      ],
      "metadata": {
        "id": "VhDpbjlTkOu6"
      }
    },
    {
      "cell_type": "markdown",
      "source": [
        "KNN Regression has a lower MSE (0.4388) compared to the initial model (0.4730), indicating that, on average, the KNN Regression model's predictions are closer to the actual values. Similarly, the RMSE for KNN Regression (0.6625) is lower than that of the initial model (0.6878), suggesting that the KNN Regression model's predictions have less variability or error compared to the initial model. The R-squared value for KNN Regression (0.5173) is higher than that of the initial model (0.4797), indicating that the KNN Regression model explains more of the variance in the target variable compared to the initial model. Overall, based on these evaluation metrics, the KNN Regression model outperforms the initial model in terms of predictive accuracy and explanatory power."
      ],
      "metadata": {
        "id": "9i1CxkfsOOMI"
      }
    },
    {
      "cell_type": "markdown",
      "source": [
        "Proceed with fine tuning the model:"
      ],
      "metadata": {
        "id": "K7aWecmQaChf"
      }
    },
    {
      "cell_type": "code",
      "source": [
        "from sklearn.model_selection import GridSearchCV\n",
        "from sklearn.neighbors import KNeighborsRegressor\n",
        "\n",
        "#define the parameter grid\n",
        "param_grid = {\n",
        "    'n_neighbors': [3, 5, 7, 9, 11],  # Number of neighbors to consider\n",
        "    'weights': ['uniform', 'distance'],  # Weighting strategy\n",
        "    'p': [1, 2]  # Power parameter for the Minkowski distance metric\n",
        "}\n",
        "\n",
        "#create KNN Regression model\n",
        "knn_model = KNeighborsRegressor()\n",
        "\n",
        "#perform grid search cross-validation\n",
        "grid_search = GridSearchCV(knn_model, param_grid, cv=5, scoring='neg_mean_squared_error')\n",
        "grid_search.fit(X_train_processed, y_train)\n",
        "\n",
        "#get best hyperparameters\n",
        "best_params = grid_search.best_params_\n",
        "print(\"Best Hyperparameters:\", best_params)\n",
        "\n",
        "#get best knn model\n",
        "best_knn_model = grid_search.best_estimator_\n",
        "\n",
        "#evaluate the best model on test set\n",
        "best_knn_predictions = best_knn_model.predict(X_test_processed)\n",
        "best_knn_mse = mean_squared_error(y_test, best_knn_predictions)\n",
        "best_knn_rmse = np.sqrt(best_knn_mse)\n",
        "best_knn_r2 = r2_score(y_test, best_knn_predictions)\n",
        "\n",
        "#evaluation metrics\n",
        "print(\"Best KNN Regression:\")\n",
        "print(\"Minimum MSE:\", best_knn_mse)\n",
        "print(\"RMSE:\", best_knn_rmse)\n",
        "print(\"R-squared:\", best_knn_r2)\n"
      ],
      "metadata": {
        "colab": {
          "base_uri": "https://localhost:8080/"
        },
        "id": "oYOgT0HUOjmJ",
        "outputId": "bea53b20-656f-4b4e-d838-c9d5dd87f4f9"
      },
      "execution_count": null,
      "outputs": [
        {
          "output_type": "stream",
          "name": "stdout",
          "text": [
            "Best Hyperparameters: {'n_neighbors': 11, 'p': 2, 'weights': 'distance'}\n",
            "Best KNN Regression:\n",
            "Minimum MSE: 0.4165919074613315\n",
            "RMSE: 0.645439313538718\n",
            "R-squared: 0.5418220884604887\n"
          ]
        }
      ]
    },
    {
      "cell_type": "markdown",
      "source": [
        "The best KNN Regression model outperforms the initial model in terms of all evaluation metrics. It has lower MSE, lower RMSE, and a higher R-squared value, indicating better predictive performance."
      ],
      "metadata": {
        "id": "1ztKo3T_O0jI"
      }
    },
    {
      "cell_type": "markdown",
      "source": [
        "Proceed with checking for overfitting:"
      ],
      "metadata": {
        "id": "ssFHDZitaHJJ"
      }
    },
    {
      "cell_type": "code",
      "source": [
        "from sklearn.model_selection import cross_val_score\n",
        "from sklearn.neighbors import KNeighborsRegressor\n",
        "\n",
        "#initialize KNN regressor with the best parameters\n",
        "best_knn_regressor = KNeighborsRegressor(n_neighbors=11, weights='distance')\n",
        "\n",
        "#perform cross-validation\n",
        "cv_scores = cross_val_score(best_knn_regressor, X_train_processed, y_train, cv=5, scoring='neg_mean_squared_error')\n",
        "\n",
        "#convert negative MSE to positive\n",
        "cv_scores = -cv_scores\n",
        "\n",
        "#calculate mean and standard deviation of cross-validation scores\n",
        "mean_cv_score = np.mean(cv_scores)\n",
        "std_cv_score = np.std(cv_scores)\n",
        "\n",
        "#print cross-validation results\n",
        "print(\"Cross-Validation MSE: {:.4f} (+/- {:.4f})\".format(mean_cv_score, std_cv_score))\n"
      ],
      "metadata": {
        "colab": {
          "base_uri": "https://localhost:8080/"
        },
        "id": "LhflRMpBPK9C",
        "outputId": "995dd2de-cde5-4053-dfe7-a8da3fbebf87"
      },
      "execution_count": null,
      "outputs": [
        {
          "output_type": "stream",
          "name": "stdout",
          "text": [
            "Cross-Validation MSE: 0.5382 (+/- 0.0406)\n"
          ]
        }
      ]
    },
    {
      "cell_type": "markdown",
      "source": [
        "My best KNN model seems to have a relatively stable performance across different folds of the data. Since the standard deviation is relatively small compared to the mean MSE, it indicates that the performance of the model is consistent across different subsets of the data. This suggests that the model is not overly sensitive to the specific training and validation splits and is likely not overfitting to the training data. Therefore, based on the cross-validation results, there is no strong evidence to suggest overfitting for the best KNN model."
      ],
      "metadata": {
        "id": "rDDtSoniQBGr"
      }
    },
    {
      "cell_type": "markdown",
      "source": [
        "##Model Evaluation\n"
      ],
      "metadata": {
        "id": "vZ_xbfFFQuDb"
      }
    },
    {
      "cell_type": "markdown",
      "source": [
        "All models were evaluated on overfitting. All linear regression models did not overfit, besides Lasso regression with optimal alpha that showed slight overfitting. Polynomial regression with degree 2 appears to be overfitting, whereas that of degree 1 generalizes well on unseen data and shows no signs of overfitting. Both Decision Tree regression models exhibited signs of overfitting and did not perform well in terms of prediction accuracy. K-Nearest Neighbors (KNN) regression model initially exhibit some degree of overfitting, however after fine-tuning the model, it outperformed the initial model and performed consistently across different subsets of data. Its cross-validation results showed no signs of overfitting for the best KNN model."
      ],
      "metadata": {
        "id": "OpttIWgMkuku"
      }
    },
    {
      "cell_type": "markdown",
      "source": [
        "**MINIMUM MSE RESULT**\n",
        ">\n",
        "| Model                        | Minimum MSE   |\n",
        "|------------------------------|---------------|\n",
        "| Initial Linear Regression   | 0.4730        |\n",
        "| Lasso Regression            | 0.5526        |\n",
        "| Ridge Regression            | 0.4730        |\n",
        "| Lasso Regression (optimal alpha) | 0.4706   |\n",
        "| Ridge Regression (optimal alpha) | 0.4724   |\n",
        "| Polynomial Regression (Degree 1) | 0.4730   |\n",
        "| Polynomial Regression (Degree 2) | 0.7645   |\n",
        "| Decision Tree Regression    | 0.8852        |\n",
        "| Best Decision Tree Regression | 0.5391       |\n",
        "| KNN Regression              | 0.4388        |\n",
        "| Best KNN Regression         | 0.4166        |\n"
      ],
      "metadata": {
        "id": "5-LnCIhQR913"
      }
    },
    {
      "cell_type": "markdown",
      "source": [
        "**RMSE RESULT**\n",
        ">\n",
        "| Model                        | RMSE          |\n",
        "|------------------------------|---------------|\n",
        "| Initial Linear Regression   | 0.6878        |\n",
        "| Lasso Regression            | 0.7434        |\n",
        "| Ridge Regression            | 0.6877        |\n",
        "| Lasso Regression (optimal alpha) | 0.6860   |\n",
        "| Ridge Regression (optimal alpha) | 0.6873   |\n",
        "| Polynomial Regression (Degree 1) | 0.6878   |\n",
        "| Polynomial Regression (Degree 2) | 0.8744   |\n",
        "| Decision Tree Regression    | 0.9409        |\n",
        "| Best Decision Tree Regression | 0.7342       |\n",
        "| KNN Regression              | 0.6625        |\n",
        "| Best KNN Regression         | 0.6454        |\n"
      ],
      "metadata": {
        "id": "1gOe1rNNR_Nt"
      }
    },
    {
      "cell_type": "markdown",
      "source": [
        "**R-SQUARED RESULT**\n",
        ">\n",
        "| Model                        | R-squared    |\n",
        "|------------------------------|--------------|\n",
        "| Initial Linear Regression   | 0.4797       |\n",
        "| Lasso Regression            | 0.3922       |\n",
        "| Ridge Regression            | 0.4798       |\n",
        "| Lasso Regression (optimal alpha) | 0.4824  |\n",
        "| Ridge Regression (optimal alpha) | 0.4805  |\n",
        "| Polynomial Regression (Degree 1) | 0.4797  |\n",
        "| Polynomial Regression (Degree 2) | 0.1592  |\n",
        "| Decision Tree Regression    | 0.0264       |\n",
        "| Best Decision Tree Regression | 0.4071      |\n",
        "| KNN Regression              | 0.5173       |\n",
        "| Best KNN Regression         | 0.5418       |\n"
      ],
      "metadata": {
        "id": "m92SC9e3SAtt"
      }
    },
    {
      "cell_type": "markdown",
      "source": [
        "To reiterate:\n",
        ">\n",
        "**Initial linear regression model** explains approximately 48% of the variance in the target variable and has moderate level of predictive performance.\n",
        ">\n",
        "**Lasso regression** with optimal alpha slightly reduces the MSE and RMSE, and slightly improves the R-squared value compared to the initial Lasso regression.\n",
        ">\n",
        "**Ridge regression** with optimal alpha shows a similar MSE and RMSE as the initial Ridge regression, but slightly improves the R-squared value.\n",
        ">\n",
        "**Polynomial Regression (Degree 1)** and the Initial Linear Regression model have almost identical minimum MSE and RMSE. The R-squared values are also very similar, indicating that both models explain approximately 48% of the variance in the target variable (Age). Both models perform similarly in capturing the relationship between the features and the target variable. However, worth noting that Polynomial Regression (Degree 1) might capture potential nonlinear relationships better than the initial Linear Regression model, although in this case, the improvement is marginal.\n",
        ">\n",
        "The best **Decision Tree Regression model** has a higher MSE and RMSE compared to the initial Linear Regression model, indicating that it performs worse in terms of prediction accuracy. The R-squared value of the Decision Tree Regression model is lower than that of the initial Linear Regression model, suggesting that the Decision Tree model explains less of the variance in the target variable compared to the Linear Regression model.\n",
        ">\n",
        "The best **KNN Regression model** outperforms the initial model in terms of all evaluation metrics. It has lower MSE, lower RMSE, and a higher R-squared value, indicating better predictive performance. This best model seems to have a relatively stable performance across different folds of the data. Since the standard deviation is relatively small compared to the mean MSE, it indicates that the performance of the model is consistent across different subsets of the data. This suggests that the model is not overly sensitive to the specific training and validation splits and is likely not overfitting to the training data. Therefore, based on the cross-validation results, there is no strong evidence to suggest overfitting for the best KNN model."
      ],
      "metadata": {
        "id": "FkJVzdeZSXfF"
      }
    },
    {
      "cell_type": "markdown",
      "source": [
        "##Conclusion"
      ],
      "metadata": {
        "id": "LvCF362UTv5b"
      }
    },
    {
      "cell_type": "markdown",
      "source": [
        "Overall, I am selecting my best ***K-Nearest Neighbours Regression Model*** as it has displays most optimal performance in terms of evaluation metrics (as revised below). Cross validation results on this best model has also shown that the model is not too sensitive to training and validation splits. It also shows no strong evidence to overfitting."
      ],
      "metadata": {
        "id": "Bte8iP6mTzo4"
      }
    },
    {
      "cell_type": "markdown",
      "source": [
        "| Metric  | Value    |\n",
        "|---------|----------|\n",
        "| Minimum MSE   | 0.4166   |\n",
        "| RMSE    | 0.6454   |\n",
        "| R-squared   | 0.5418   |\n"
      ],
      "metadata": {
        "id": "gOCaZpRmTyp3"
      }
    },
    {
      "cell_type": "markdown",
      "source": [
        "-end of labwork 1-"
      ],
      "metadata": {
        "id": "TTOe0gYNURPp"
      }
    }
  ]
}